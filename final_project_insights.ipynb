{
 "cells": [
  {
   "cell_type": "code",
   "execution_count": 2,
   "metadata": {},
   "outputs": [],
   "source": [
    "import pandas as pd \n",
    "import numpy as np"
   ]
  },
  {
   "cell_type": "markdown",
   "metadata": {},
   "source": [
    "# Reading Data"
   ]
  },
  {
   "cell_type": "code",
   "execution_count": 3,
   "metadata": {},
   "outputs": [
    {
     "data": {
      "text/html": [
       "<div>\n",
       "<style scoped>\n",
       "    .dataframe tbody tr th:only-of-type {\n",
       "        vertical-align: middle;\n",
       "    }\n",
       "\n",
       "    .dataframe tbody tr th {\n",
       "        vertical-align: top;\n",
       "    }\n",
       "\n",
       "    .dataframe thead th {\n",
       "        text-align: right;\n",
       "    }\n",
       "</style>\n",
       "<table border=\"1\" class=\"dataframe\">\n",
       "  <thead>\n",
       "    <tr style=\"text-align: right;\">\n",
       "      <th></th>\n",
       "      <th>Degree Level</th>\n",
       "      <th>Nationality</th>\n",
       "      <th>Gender</th>\n",
       "      <th>Year Quarter</th>\n",
       "      <th>Salary</th>\n",
       "      <th>Currency</th>\n",
       "    </tr>\n",
       "  </thead>\n",
       "  <tbody>\n",
       "    <tr>\n",
       "      <th>0</th>\n",
       "      <td>Primary</td>\n",
       "      <td>NonSaudi</td>\n",
       "      <td>Female</td>\n",
       "      <td>2017 Q1</td>\n",
       "      <td>1590</td>\n",
       "      <td>SAR</td>\n",
       "    </tr>\n",
       "    <tr>\n",
       "      <th>1</th>\n",
       "      <td>Primary</td>\n",
       "      <td>NonSaudi</td>\n",
       "      <td>Male</td>\n",
       "      <td>2017 Q1</td>\n",
       "      <td>2173</td>\n",
       "      <td>SAR</td>\n",
       "    </tr>\n",
       "    <tr>\n",
       "      <th>2</th>\n",
       "      <td>Primary</td>\n",
       "      <td>Saudi</td>\n",
       "      <td>Female</td>\n",
       "      <td>2017 Q1</td>\n",
       "      <td>4172</td>\n",
       "      <td>SAR</td>\n",
       "    </tr>\n",
       "    <tr>\n",
       "      <th>3</th>\n",
       "      <td>Primary</td>\n",
       "      <td>Saudi</td>\n",
       "      <td>Male</td>\n",
       "      <td>2017 Q1</td>\n",
       "      <td>6172</td>\n",
       "      <td>SAR</td>\n",
       "    </tr>\n",
       "    <tr>\n",
       "      <th>4</th>\n",
       "      <td>Primary</td>\n",
       "      <td>NonSaudi</td>\n",
       "      <td>Female</td>\n",
       "      <td>2017 Q2</td>\n",
       "      <td>1597</td>\n",
       "      <td>SAR</td>\n",
       "    </tr>\n",
       "  </tbody>\n",
       "</table>\n",
       "</div>"
      ],
      "text/plain": [
       "  Degree Level Nationality  Gender Year Quarter  Salary Currency\n",
       "0      Primary    NonSaudi  Female      2017 Q1    1590      SAR\n",
       "1      Primary    NonSaudi    Male      2017 Q1    2173      SAR\n",
       "2      Primary       Saudi  Female      2017 Q1    4172      SAR\n",
       "3      Primary       Saudi    Male      2017 Q1    6172      SAR\n",
       "4      Primary    NonSaudi  Female      2017 Q2    1597      SAR"
      ]
     },
     "execution_count": 3,
     "metadata": {},
     "output_type": "execute_result"
    }
   ],
   "source": [
    "df = pd.read_csv(\"Salary by Education.csv\")\n",
    "df.head()"
   ]
  },
  {
   "cell_type": "markdown",
   "metadata": {},
   "source": [
    "## Get Some Insights "
   ]
  },
  {
   "cell_type": "code",
   "execution_count": 4,
   "metadata": {},
   "outputs": [
    {
     "data": {
      "text/plain": [
       "Primary          72\n",
       "Secondary        72\n",
       "Intermediate     72\n",
       "Bachelor         72\n",
       "Diploma          72\n",
       "Doctorate        72\n",
       "Master Degree    72\n",
       "Name: Degree Level, dtype: int64"
      ]
     },
     "execution_count": 4,
     "metadata": {},
     "output_type": "execute_result"
    }
   ],
   "source": [
    "df['Degree Level'].value_counts()"
   ]
  },
  {
   "cell_type": "code",
   "execution_count": 5,
   "metadata": {},
   "outputs": [
    {
     "data": {
      "text/plain": [
       "252"
      ]
     },
     "execution_count": 5,
     "metadata": {},
     "output_type": "execute_result"
    }
   ],
   "source": [
    "len(df[df['Gender']=='Male'])"
   ]
  },
  {
   "cell_type": "code",
   "execution_count": 6,
   "metadata": {},
   "outputs": [
    {
     "data": {
      "text/plain": [
       "Degree Level    0\n",
       "Nationality     0\n",
       "Gender          0\n",
       "Year Quarter    0\n",
       "Salary          0\n",
       "Currency        0\n",
       "dtype: int64"
      ]
     },
     "execution_count": 6,
     "metadata": {},
     "output_type": "execute_result"
    }
   ],
   "source": [
    "df.isnull().sum()"
   ]
  },
  {
   "cell_type": "code",
   "execution_count": 7,
   "metadata": {},
   "outputs": [
    {
     "data": {
      "text/plain": [
       "Degree Level   Nationality  Gender  Year Quarter  Salary  Currency\n",
       "Bachelor       NonSaudi     Female  2017 Q1       6528    SAR         1\n",
       "Master Degree  Saudi        Female  2018 Q4       13017   SAR         1\n",
       "                            Male    2017 Q3       17443   SAR         1\n",
       "                                    2017 Q2       17763   SAR         1\n",
       "                                    2017 Q1       17007   SAR         1\n",
       "                                                                     ..\n",
       "Doctorate      NonSaudi     Male    2017 Q2       17074   SAR         1\n",
       "                                    2017 Q1       15608   SAR         1\n",
       "                            Female  2021 Q2       16727   SAR         1\n",
       "                                    2021 Q1       10774   SAR         1\n",
       "Secondary      Saudi        Male    2021 Q2       8580    SAR         1\n",
       "Length: 504, dtype: int64"
      ]
     },
     "execution_count": 7,
     "metadata": {},
     "output_type": "execute_result"
    }
   ],
   "source": [
    "df.value_counts()"
   ]
  },
  {
   "cell_type": "code",
   "execution_count": 8,
   "metadata": {},
   "outputs": [
    {
     "data": {
      "text/plain": [
       "8950.031746031746"
      ]
     },
     "execution_count": 8,
     "metadata": {},
     "output_type": "execute_result"
    }
   ],
   "source": [
    "np.average(df.Salary)"
   ]
  },
  {
   "cell_type": "code",
   "execution_count": 9,
   "metadata": {},
   "outputs": [
    {
     "data": {
      "text/plain": [
       "SAR    504\n",
       "Name: Currency, dtype: int64"
      ]
     },
     "execution_count": 9,
     "metadata": {},
     "output_type": "execute_result"
    }
   ],
   "source": [
    "df.Currency.value_counts()"
   ]
  },
  {
   "cell_type": "code",
   "execution_count": 10,
   "metadata": {},
   "outputs": [
    {
     "ename": "KeyError",
     "evalue": "'Year'",
     "output_type": "error",
     "traceback": [
      "\u001b[1;31m---------------------------------------------------------------------------\u001b[0m",
      "\u001b[1;31mKeyError\u001b[0m                                  Traceback (most recent call last)",
      "\u001b[1;32m~\\Anaconda3\\lib\\site-packages\\pandas\\core\\indexes\\base.py\u001b[0m in \u001b[0;36mget_loc\u001b[1;34m(self, key, method, tolerance)\u001b[0m\n\u001b[0;32m   3360\u001b[0m             \u001b[1;32mtry\u001b[0m\u001b[1;33m:\u001b[0m\u001b[1;33m\u001b[0m\u001b[1;33m\u001b[0m\u001b[0m\n\u001b[1;32m-> 3361\u001b[1;33m                 \u001b[1;32mreturn\u001b[0m \u001b[0mself\u001b[0m\u001b[1;33m.\u001b[0m\u001b[0m_engine\u001b[0m\u001b[1;33m.\u001b[0m\u001b[0mget_loc\u001b[0m\u001b[1;33m(\u001b[0m\u001b[0mcasted_key\u001b[0m\u001b[1;33m)\u001b[0m\u001b[1;33m\u001b[0m\u001b[1;33m\u001b[0m\u001b[0m\n\u001b[0m\u001b[0;32m   3362\u001b[0m             \u001b[1;32mexcept\u001b[0m \u001b[0mKeyError\u001b[0m \u001b[1;32mas\u001b[0m \u001b[0merr\u001b[0m\u001b[1;33m:\u001b[0m\u001b[1;33m\u001b[0m\u001b[1;33m\u001b[0m\u001b[0m\n",
      "\u001b[1;32m~\\Anaconda3\\lib\\site-packages\\pandas\\_libs\\index.pyx\u001b[0m in \u001b[0;36mpandas._libs.index.IndexEngine.get_loc\u001b[1;34m()\u001b[0m\n",
      "\u001b[1;32m~\\Anaconda3\\lib\\site-packages\\pandas\\_libs\\index.pyx\u001b[0m in \u001b[0;36mpandas._libs.index.IndexEngine.get_loc\u001b[1;34m()\u001b[0m\n",
      "\u001b[1;32mpandas\\_libs\\hashtable_class_helper.pxi\u001b[0m in \u001b[0;36mpandas._libs.hashtable.PyObjectHashTable.get_item\u001b[1;34m()\u001b[0m\n",
      "\u001b[1;32mpandas\\_libs\\hashtable_class_helper.pxi\u001b[0m in \u001b[0;36mpandas._libs.hashtable.PyObjectHashTable.get_item\u001b[1;34m()\u001b[0m\n",
      "\u001b[1;31mKeyError\u001b[0m: 'Year'",
      "\nThe above exception was the direct cause of the following exception:\n",
      "\u001b[1;31mKeyError\u001b[0m                                  Traceback (most recent call last)",
      "\u001b[1;32m<ipython-input-10-15280c10902b>\u001b[0m in \u001b[0;36m<module>\u001b[1;34m\u001b[0m\n\u001b[1;32m----> 1\u001b[1;33m \u001b[0mdf\u001b[0m\u001b[1;33m[\u001b[0m\u001b[1;34m\"Year\"\u001b[0m\u001b[1;33m]\u001b[0m\u001b[1;33m==\u001b[0m\u001b[1;36m2017\u001b[0m\u001b[1;33m\u001b[0m\u001b[1;33m\u001b[0m\u001b[0m\n\u001b[0m",
      "\u001b[1;32m~\\Anaconda3\\lib\\site-packages\\pandas\\core\\frame.py\u001b[0m in \u001b[0;36m__getitem__\u001b[1;34m(self, key)\u001b[0m\n\u001b[0;32m   3453\u001b[0m             \u001b[1;32mif\u001b[0m \u001b[0mself\u001b[0m\u001b[1;33m.\u001b[0m\u001b[0mcolumns\u001b[0m\u001b[1;33m.\u001b[0m\u001b[0mnlevels\u001b[0m \u001b[1;33m>\u001b[0m \u001b[1;36m1\u001b[0m\u001b[1;33m:\u001b[0m\u001b[1;33m\u001b[0m\u001b[1;33m\u001b[0m\u001b[0m\n\u001b[0;32m   3454\u001b[0m                 \u001b[1;32mreturn\u001b[0m \u001b[0mself\u001b[0m\u001b[1;33m.\u001b[0m\u001b[0m_getitem_multilevel\u001b[0m\u001b[1;33m(\u001b[0m\u001b[0mkey\u001b[0m\u001b[1;33m)\u001b[0m\u001b[1;33m\u001b[0m\u001b[1;33m\u001b[0m\u001b[0m\n\u001b[1;32m-> 3455\u001b[1;33m             \u001b[0mindexer\u001b[0m \u001b[1;33m=\u001b[0m \u001b[0mself\u001b[0m\u001b[1;33m.\u001b[0m\u001b[0mcolumns\u001b[0m\u001b[1;33m.\u001b[0m\u001b[0mget_loc\u001b[0m\u001b[1;33m(\u001b[0m\u001b[0mkey\u001b[0m\u001b[1;33m)\u001b[0m\u001b[1;33m\u001b[0m\u001b[1;33m\u001b[0m\u001b[0m\n\u001b[0m\u001b[0;32m   3456\u001b[0m             \u001b[1;32mif\u001b[0m \u001b[0mis_integer\u001b[0m\u001b[1;33m(\u001b[0m\u001b[0mindexer\u001b[0m\u001b[1;33m)\u001b[0m\u001b[1;33m:\u001b[0m\u001b[1;33m\u001b[0m\u001b[1;33m\u001b[0m\u001b[0m\n\u001b[0;32m   3457\u001b[0m                 \u001b[0mindexer\u001b[0m \u001b[1;33m=\u001b[0m \u001b[1;33m[\u001b[0m\u001b[0mindexer\u001b[0m\u001b[1;33m]\u001b[0m\u001b[1;33m\u001b[0m\u001b[1;33m\u001b[0m\u001b[0m\n",
      "\u001b[1;32m~\\Anaconda3\\lib\\site-packages\\pandas\\core\\indexes\\base.py\u001b[0m in \u001b[0;36mget_loc\u001b[1;34m(self, key, method, tolerance)\u001b[0m\n\u001b[0;32m   3361\u001b[0m                 \u001b[1;32mreturn\u001b[0m \u001b[0mself\u001b[0m\u001b[1;33m.\u001b[0m\u001b[0m_engine\u001b[0m\u001b[1;33m.\u001b[0m\u001b[0mget_loc\u001b[0m\u001b[1;33m(\u001b[0m\u001b[0mcasted_key\u001b[0m\u001b[1;33m)\u001b[0m\u001b[1;33m\u001b[0m\u001b[1;33m\u001b[0m\u001b[0m\n\u001b[0;32m   3362\u001b[0m             \u001b[1;32mexcept\u001b[0m \u001b[0mKeyError\u001b[0m \u001b[1;32mas\u001b[0m \u001b[0merr\u001b[0m\u001b[1;33m:\u001b[0m\u001b[1;33m\u001b[0m\u001b[1;33m\u001b[0m\u001b[0m\n\u001b[1;32m-> 3363\u001b[1;33m                 \u001b[1;32mraise\u001b[0m \u001b[0mKeyError\u001b[0m\u001b[1;33m(\u001b[0m\u001b[0mkey\u001b[0m\u001b[1;33m)\u001b[0m \u001b[1;32mfrom\u001b[0m \u001b[0merr\u001b[0m\u001b[1;33m\u001b[0m\u001b[1;33m\u001b[0m\u001b[0m\n\u001b[0m\u001b[0;32m   3364\u001b[0m \u001b[1;33m\u001b[0m\u001b[0m\n\u001b[0;32m   3365\u001b[0m         \u001b[1;32mif\u001b[0m \u001b[0mis_scalar\u001b[0m\u001b[1;33m(\u001b[0m\u001b[0mkey\u001b[0m\u001b[1;33m)\u001b[0m \u001b[1;32mand\u001b[0m \u001b[0misna\u001b[0m\u001b[1;33m(\u001b[0m\u001b[0mkey\u001b[0m\u001b[1;33m)\u001b[0m \u001b[1;32mand\u001b[0m \u001b[1;32mnot\u001b[0m \u001b[0mself\u001b[0m\u001b[1;33m.\u001b[0m\u001b[0mhasnans\u001b[0m\u001b[1;33m:\u001b[0m\u001b[1;33m\u001b[0m\u001b[1;33m\u001b[0m\u001b[0m\n",
      "\u001b[1;31mKeyError\u001b[0m: 'Year'"
     ]
    }
   ],
   "source": [
    "df[\"Year\"]==2017"
   ]
  },
  {
   "cell_type": "code",
   "execution_count": null,
   "metadata": {},
   "outputs": [
    {
     "data": {
      "text/plain": [
       "221     True\n",
       "435     True\n",
       "369     True\n",
       "447     True\n",
       "373     True\n",
       "       ...  \n",
       "280    False\n",
       "284    False\n",
       "71     False\n",
       "353    False\n",
       "427    False\n",
       "Name: Year, Length: 504, dtype: bool"
      ]
     },
     "execution_count": 152,
     "metadata": {},
     "output_type": "execute_result"
    }
   ],
   "source": [
    "df['Year'] = df['Year Quarter'].str.slice(0, 4)\n",
    "df['Year']=='2017'"
   ]
  },
  {
   "cell_type": "code",
   "execution_count": null,
   "metadata": {},
   "outputs": [
    {
     "data": {
      "text/html": [
       "<div>\n",
       "<style scoped>\n",
       "    .dataframe tbody tr th:only-of-type {\n",
       "        vertical-align: middle;\n",
       "    }\n",
       "\n",
       "    .dataframe tbody tr th {\n",
       "        vertical-align: top;\n",
       "    }\n",
       "\n",
       "    .dataframe thead th {\n",
       "        text-align: right;\n",
       "    }\n",
       "</style>\n",
       "<table border=\"1\" class=\"dataframe\">\n",
       "  <thead>\n",
       "    <tr style=\"text-align: right;\">\n",
       "      <th></th>\n",
       "      <th>Salary</th>\n",
       "    </tr>\n",
       "    <tr>\n",
       "      <th>Gender</th>\n",
       "      <th></th>\n",
       "    </tr>\n",
       "  </thead>\n",
       "  <tbody>\n",
       "    <tr>\n",
       "      <th>Female</th>\n",
       "      <td>1931469</td>\n",
       "    </tr>\n",
       "    <tr>\n",
       "      <th>Male</th>\n",
       "      <td>2579347</td>\n",
       "    </tr>\n",
       "  </tbody>\n",
       "</table>\n",
       "</div>"
      ],
      "text/plain": [
       "         Salary\n",
       "Gender         \n",
       "Female  1931469\n",
       "Male    2579347"
      ]
     },
     "execution_count": 29,
     "metadata": {},
     "output_type": "execute_result"
    }
   ],
   "source": [
    "df.groupby('Gender').sum('Salary')"
   ]
  },
  {
   "cell_type": "markdown",
   "metadata": {},
   "source": [
    "# Let us Build Dash App"
   ]
  },
  {
   "cell_type": "code",
   "execution_count": null,
   "metadata": {},
   "outputs": [],
   "source": [
    "import dash\n",
    "from dash import html\n",
    "from dash import dcc\n",
    "from dash.dependencies import Input, Output\n",
    "from jupyter_dash import JupyterDash\n",
    "import plotly.express as px"
   ]
  },
  {
   "cell_type": "code",
   "execution_count": null,
   "metadata": {},
   "outputs": [
    {
     "ename": "NameError",
     "evalue": "name 'px' is not defined",
     "output_type": "error",
     "traceback": [
      "\u001b[1;31m---------------------------------------------------------------------------\u001b[0m",
      "\u001b[1;31mNameError\u001b[0m                                 Traceback (most recent call last)",
      "\u001b[1;32m<ipython-input-1-19e69dc68417>\u001b[0m in \u001b[0;36m<module>\u001b[1;34m\u001b[0m\n\u001b[0;32m      1\u001b[0m \u001b[1;31m# Create a dash application\u001b[0m\u001b[1;33m\u001b[0m\u001b[1;33m\u001b[0m\u001b[1;33m\u001b[0m\u001b[0m\n\u001b[1;32m----> 2\u001b[1;33m \u001b[0mpx\u001b[0m\u001b[1;33m.\u001b[0m\u001b[0mscatter\u001b[0m\u001b[1;33m(\u001b[0m\u001b[0mdf\u001b[0m\u001b[1;33m,\u001b[0m\u001b[0mx\u001b[0m\u001b[1;33m=\u001b[0m\u001b[1;34m\"Year\"\u001b[0m\u001b[1;33m,\u001b[0m \u001b[0my\u001b[0m\u001b[1;33m=\u001b[0m\u001b[1;34m\"Salary\"\u001b[0m\u001b[1;33m,\u001b[0m\u001b[0mcolor\u001b[0m\u001b[1;33m=\u001b[0m\u001b[1;34m\"Degree Level\"\u001b[0m\u001b[1;33m,\u001b[0m \u001b[0msymbol\u001b[0m\u001b[1;33m=\u001b[0m\u001b[1;34m\"Degree Level\"\u001b[0m\u001b[1;33m,\u001b[0m\u001b[0mhover_data\u001b[0m\u001b[1;33m=\u001b[0m\u001b[1;33m[\u001b[0m\u001b[1;34m'Gender'\u001b[0m\u001b[1;33m]\u001b[0m\u001b[1;33m)\u001b[0m\u001b[1;33m\u001b[0m\u001b[1;33m\u001b[0m\u001b[0m\n\u001b[0m\u001b[0;32m      3\u001b[0m \u001b[1;33m\u001b[0m\u001b[0m\n\u001b[0;32m      4\u001b[0m \u001b[0mapp\u001b[0m\u001b[1;33m=\u001b[0m\u001b[0mdash\u001b[0m\u001b[1;33m.\u001b[0m\u001b[0mDash\u001b[0m\u001b[1;33m(\u001b[0m\u001b[1;34m\"Project\"\u001b[0m\u001b[1;33m)\u001b[0m\u001b[1;33m\u001b[0m\u001b[1;33m\u001b[0m\u001b[0m\n",
      "\u001b[1;31mNameError\u001b[0m: name 'px' is not defined"
     ]
    }
   ],
   "source": [
    "# Create a dash application\n",
    "px.scatter(df,x=\"Year\", y=\"Salary\",color=\"Degree Level\", symbol=\"Degree Level\",hover_data=['Gender'])\n",
    "\n",
    "app=dash.Dash(\"Project\")"
   ]
  },
  {
   "cell_type": "code",
   "execution_count": null,
   "metadata": {},
   "outputs": [],
   "source": [
    "app.layout = html.Div(children=[ html.H1('Salaries in Saudi Arabia Dashboard', \n",
    "                                style={'textAlign': 'center', 'color': '#503D36',\n",
    "                                'font-size': 40}),\n",
    "                                html.Div([\"Input Year: \", dcc.Input(id='input-year', value='2010', \n",
    "                                type='number', style={'height':'50px', 'font-size': 35}),], \n",
    "                                style={'font-size': 40}),\n",
    "                                html.Br(),\n",
    "                                html.Br(),\n",
    "                                # html.Div(dcc.Graph(id='line-plot')),\n",
    "                                ])\n",
    "\n"
   ]
  },
  {
   "cell_type": "code",
   "execution_count": null,
   "metadata": {},
   "outputs": [
    {
     "data": {
      "application/vnd.plotly.v1+json": {
       "config": {
        "plotlyServerURL": "https://plot.ly"
       },
       "data": [
        {
         "customdata": [
          [
           "Male"
          ],
          [
           "Female"
          ],
          [
           "Female"
          ],
          [
           "Female"
          ],
          [
           "Female"
          ],
          [
           "Female"
          ],
          [
           "Female"
          ],
          [
           "Female"
          ],
          [
           "Male"
          ],
          [
           "Male"
          ],
          [
           "Male"
          ],
          [
           "Male"
          ],
          [
           "Female"
          ],
          [
           "Male"
          ],
          [
           "Male"
          ],
          [
           "Male"
          ],
          [
           "Female"
          ],
          [
           "Male"
          ],
          [
           "Female"
          ],
          [
           "Male"
          ],
          [
           "Male"
          ],
          [
           "Female"
          ],
          [
           "Female"
          ],
          [
           "Male"
          ],
          [
           "Male"
          ],
          [
           "Female"
          ],
          [
           "Female"
          ],
          [
           "Male"
          ],
          [
           "Male"
          ],
          [
           "Female"
          ],
          [
           "Male"
          ],
          [
           "Female"
          ],
          [
           "Male"
          ],
          [
           "Male"
          ],
          [
           "Male"
          ],
          [
           "Female"
          ],
          [
           "Female"
          ],
          [
           "Female"
          ],
          [
           "Female"
          ],
          [
           "Male"
          ],
          [
           "Male"
          ],
          [
           "Female"
          ],
          [
           "Male"
          ],
          [
           "Female"
          ],
          [
           "Female"
          ],
          [
           "Male"
          ],
          [
           "Female"
          ],
          [
           "Male"
          ],
          [
           "Male"
          ],
          [
           "Male"
          ],
          [
           "Male"
          ],
          [
           "Male"
          ],
          [
           "Female"
          ],
          [
           "Female"
          ],
          [
           "Female"
          ],
          [
           "Female"
          ],
          [
           "Male"
          ],
          [
           "Female"
          ],
          [
           "Female"
          ],
          [
           "Female"
          ],
          [
           "Female"
          ],
          [
           "Male"
          ],
          [
           "Male"
          ],
          [
           "Male"
          ],
          [
           "Male"
          ],
          [
           "Male"
          ],
          [
           "Male"
          ],
          [
           "Female"
          ],
          [
           "Female"
          ],
          [
           "Male"
          ],
          [
           "Female"
          ],
          [
           "Female"
          ]
         ],
         "hovertemplate": "Degree Level=Bachelor<br>Year=%{x}<br>Salary=%{y}<br>Gender=%{customdata[0]}<extra></extra>",
         "legendgroup": "Bachelor",
         "marker": {
          "color": "#636efa",
          "symbol": "circle"
         },
         "mode": "markers",
         "name": "Bachelor",
         "orientation": "v",
         "showlegend": true,
         "type": "scatter",
         "x": [
          "2017",
          "2017",
          "2017",
          "2017",
          "2017",
          "2017",
          "2017",
          "2017",
          "2017",
          "2017",
          "2017",
          "2017",
          "2017",
          "2017",
          "2017",
          "2017",
          "2018",
          "2018",
          "2018",
          "2018",
          "2018",
          "2018",
          "2018",
          "2018",
          "2018",
          "2018",
          "2018",
          "2018",
          "2018",
          "2018",
          "2018",
          "2018",
          "2019",
          "2019",
          "2019",
          "2019",
          "2019",
          "2019",
          "2019",
          "2019",
          "2019",
          "2019",
          "2019",
          "2019",
          "2019",
          "2019",
          "2019",
          "2019",
          "2020",
          "2020",
          "2020",
          "2020",
          "2020",
          "2020",
          "2020",
          "2020",
          "2020",
          "2020",
          "2020",
          "2020",
          "2020",
          "2020",
          "2020",
          "2020",
          "2021",
          "2021",
          "2021",
          "2021",
          "2021",
          "2021",
          "2021",
          "2021"
         ],
         "xaxis": "x",
         "y": [
          7868,
          6321,
          6528,
          6683,
          9993,
          10072,
          10180,
          10406,
          12902,
          7655,
          7787,
          7851,
          6988,
          13142,
          13041,
          13023,
          7356,
          7732,
          7751,
          8114,
          13448,
          6420,
          6525,
          8270,
          8254,
          10035,
          10179,
          12847,
          13181,
          10629,
          13147,
          10256,
          13052,
          9096,
          8882,
          10476,
          10467,
          10412,
          10279,
          13059,
          13108,
          7156,
          13075,
          6614,
          7511,
          8205,
          8062,
          8378,
          13101,
          12526,
          12475,
          13257,
          6197,
          6470,
          6495,
          6790,
          7592,
          9809,
          9826,
          9829,
          10167,
          7721,
          8302,
          8653,
          13373,
          8727,
          8933,
          9239,
          9262,
          13744,
          5809,
          5847
         ],
         "yaxis": "y"
        },
        {
         "customdata": [
          [
           "Male"
          ],
          [
           "Male"
          ],
          [
           "Male"
          ],
          [
           "Male"
          ],
          [
           "Male"
          ],
          [
           "Male"
          ],
          [
           "Female"
          ],
          [
           "Male"
          ],
          [
           "Female"
          ],
          [
           "Female"
          ],
          [
           "Female"
          ],
          [
           "Female"
          ],
          [
           "Female"
          ],
          [
           "Male"
          ],
          [
           "Female"
          ],
          [
           "Female"
          ],
          [
           "Male"
          ],
          [
           "Female"
          ],
          [
           "Male"
          ],
          [
           "Male"
          ],
          [
           "Female"
          ],
          [
           "Male"
          ],
          [
           "Female"
          ],
          [
           "Female"
          ],
          [
           "Female"
          ],
          [
           "Female"
          ],
          [
           "Female"
          ],
          [
           "Male"
          ],
          [
           "Male"
          ],
          [
           "Male"
          ],
          [
           "Male"
          ],
          [
           "Female"
          ],
          [
           "Male"
          ],
          [
           "Female"
          ],
          [
           "Female"
          ],
          [
           "Female"
          ],
          [
           "Female"
          ],
          [
           "Male"
          ],
          [
           "Female"
          ],
          [
           "Female"
          ],
          [
           "Female"
          ],
          [
           "Female"
          ],
          [
           "Male"
          ],
          [
           "Male"
          ],
          [
           "Male"
          ],
          [
           "Male"
          ],
          [
           "Male"
          ],
          [
           "Male"
          ],
          [
           "Male"
          ],
          [
           "Female"
          ],
          [
           "Female"
          ],
          [
           "Male"
          ],
          [
           "Male"
          ],
          [
           "Male"
          ],
          [
           "Male"
          ],
          [
           "Male"
          ],
          [
           "Male"
          ],
          [
           "Female"
          ],
          [
           "Male"
          ],
          [
           "Female"
          ],
          [
           "Female"
          ],
          [
           "Female"
          ],
          [
           "Female"
          ],
          [
           "Female"
          ],
          [
           "Male"
          ],
          [
           "Male"
          ],
          [
           "Male"
          ],
          [
           "Female"
          ],
          [
           "Female"
          ],
          [
           "Female"
          ],
          [
           "Female"
          ],
          [
           "Male"
          ]
         ],
         "hovertemplate": "Degree Level=Master Degree<br>Year=%{x}<br>Salary=%{y}<br>Gender=%{customdata[0]}<extra></extra>",
         "legendgroup": "Master Degree",
         "marker": {
          "color": "#EF553B",
          "symbol": "diamond"
         },
         "mode": "markers",
         "name": "Master Degree",
         "orientation": "v",
         "showlegend": true,
         "type": "scatter",
         "x": [
          "2017",
          "2017",
          "2017",
          "2017",
          "2017",
          "2017",
          "2017",
          "2017",
          "2017",
          "2017",
          "2017",
          "2017",
          "2017",
          "2017",
          "2017",
          "2017",
          "2018",
          "2018",
          "2018",
          "2018",
          "2018",
          "2018",
          "2018",
          "2018",
          "2018",
          "2018",
          "2018",
          "2018",
          "2018",
          "2018",
          "2018",
          "2018",
          "2019",
          "2019",
          "2019",
          "2019",
          "2019",
          "2019",
          "2019",
          "2019",
          "2019",
          "2019",
          "2019",
          "2019",
          "2019",
          "2019",
          "2019",
          "2019",
          "2020",
          "2020",
          "2020",
          "2020",
          "2020",
          "2020",
          "2020",
          "2020",
          "2020",
          "2020",
          "2020",
          "2020",
          "2020",
          "2020",
          "2020",
          "2020",
          "2021",
          "2021",
          "2021",
          "2021",
          "2021",
          "2021",
          "2021",
          "2021"
         ],
         "xaxis": "x",
         "y": [
          17007,
          16471,
          14841,
          14604,
          17763,
          17443,
          12668,
          12233,
          10450,
          10729,
          11909,
          11022,
          11583,
          13799,
          8779,
          11836,
          13558,
          11628,
          11325,
          14068,
          12433,
          12845,
          12440,
          9389,
          8630,
          12119,
          13017,
          17091,
          18720,
          18421,
          16721,
          11804,
          17577,
          12732,
          11575,
          11393,
          10773,
          18786,
          9751,
          12656,
          12378,
          14024,
          15183,
          15724,
          15829,
          16373,
          17102,
          13373,
          11872,
          12377,
          12711,
          16503,
          13815,
          12783,
          19444,
          17590,
          13667,
          15305,
          17276,
          11464,
          11681,
          9475,
          10397,
          11021,
          20431,
          21754,
          16467,
          9362,
          12480,
          12398,
          13397,
          17202
         ],
         "yaxis": "y"
        },
        {
         "customdata": [
          [
           "Male"
          ],
          [
           "Male"
          ],
          [
           "Female"
          ],
          [
           "Male"
          ],
          [
           "Male"
          ],
          [
           "Female"
          ],
          [
           "Female"
          ],
          [
           "Female"
          ],
          [
           "Female"
          ],
          [
           "Female"
          ],
          [
           "Male"
          ],
          [
           "Female"
          ],
          [
           "Female"
          ],
          [
           "Male"
          ],
          [
           "Male"
          ],
          [
           "Male"
          ],
          [
           "Female"
          ],
          [
           "Male"
          ],
          [
           "Male"
          ],
          [
           "Female"
          ],
          [
           "Male"
          ],
          [
           "Female"
          ],
          [
           "Female"
          ],
          [
           "Male"
          ],
          [
           "Female"
          ],
          [
           "Male"
          ],
          [
           "Male"
          ],
          [
           "Female"
          ],
          [
           "Male"
          ],
          [
           "Female"
          ],
          [
           "Female"
          ],
          [
           "Male"
          ],
          [
           "Male"
          ],
          [
           "Female"
          ],
          [
           "Male"
          ],
          [
           "Male"
          ],
          [
           "Male"
          ],
          [
           "Female"
          ],
          [
           "Male"
          ],
          [
           "Male"
          ],
          [
           "Female"
          ],
          [
           "Female"
          ],
          [
           "Male"
          ],
          [
           "Female"
          ],
          [
           "Female"
          ],
          [
           "Female"
          ],
          [
           "Female"
          ],
          [
           "Male"
          ],
          [
           "Female"
          ],
          [
           "Male"
          ],
          [
           "Male"
          ],
          [
           "Male"
          ],
          [
           "Female"
          ],
          [
           "Female"
          ],
          [
           "Male"
          ],
          [
           "Female"
          ],
          [
           "Male"
          ],
          [
           "Female"
          ],
          [
           "Female"
          ],
          [
           "Male"
          ],
          [
           "Female"
          ],
          [
           "Female"
          ],
          [
           "Male"
          ],
          [
           "Male"
          ],
          [
           "Female"
          ],
          [
           "Male"
          ],
          [
           "Female"
          ],
          [
           "Male"
          ],
          [
           "Male"
          ],
          [
           "Female"
          ],
          [
           "Female"
          ],
          [
           "Male"
          ]
         ],
         "hovertemplate": "Degree Level=Doctorate<br>Year=%{x}<br>Salary=%{y}<br>Gender=%{customdata[0]}<extra></extra>",
         "legendgroup": "Doctorate",
         "marker": {
          "color": "#00cc96",
          "symbol": "square"
         },
         "mode": "markers",
         "name": "Doctorate",
         "orientation": "v",
         "showlegend": true,
         "type": "scatter",
         "x": [
          "2017",
          "2017",
          "2017",
          "2017",
          "2017",
          "2017",
          "2017",
          "2017",
          "2017",
          "2017",
          "2017",
          "2017",
          "2017",
          "2017",
          "2017",
          "2017",
          "2018",
          "2018",
          "2018",
          "2018",
          "2018",
          "2018",
          "2018",
          "2018",
          "2018",
          "2018",
          "2018",
          "2018",
          "2018",
          "2018",
          "2018",
          "2018",
          "2019",
          "2019",
          "2019",
          "2019",
          "2019",
          "2019",
          "2019",
          "2019",
          "2019",
          "2019",
          "2019",
          "2019",
          "2019",
          "2019",
          "2019",
          "2019",
          "2020",
          "2020",
          "2020",
          "2020",
          "2020",
          "2020",
          "2020",
          "2020",
          "2020",
          "2020",
          "2020",
          "2020",
          "2020",
          "2020",
          "2020",
          "2020",
          "2021",
          "2021",
          "2021",
          "2021",
          "2021",
          "2021",
          "2021",
          "2021"
         ],
         "xaxis": "x",
         "y": [
          16788,
          16262,
          16204,
          15608,
          17074,
          10259,
          12005,
          11862,
          12847,
          22953,
          23079,
          21491,
          22216,
          24906,
          26380,
          27509,
          13526,
          26700,
          27214,
          11254,
          23032,
          14305,
          12763,
          24459,
          23371,
          15933,
          17749,
          20815,
          17876,
          19321,
          17129,
          17241,
          24321,
          20665,
          18246,
          30599,
          19210,
          12112,
          18762,
          26262,
          20464,
          13167,
          24024,
          21363,
          13502,
          13424,
          21403,
          16061,
          16034,
          19406,
          27777,
          24202,
          21528,
          19058,
          19311,
          21597,
          16736,
          14349,
          21483,
          16715,
          13947,
          13993,
          25863,
          31295,
          25676,
          28380,
          24632,
          23036,
          26296,
          10774,
          16727,
          35622
         ],
         "yaxis": "y"
        },
        {
         "customdata": [
          [
           "Female"
          ],
          [
           "Female"
          ],
          [
           "Female"
          ],
          [
           "Female"
          ],
          [
           "Male"
          ],
          [
           "Female"
          ],
          [
           "Male"
          ],
          [
           "Male"
          ],
          [
           "Male"
          ],
          [
           "Male"
          ],
          [
           "Male"
          ],
          [
           "Male"
          ],
          [
           "Male"
          ],
          [
           "Female"
          ],
          [
           "Female"
          ],
          [
           "Female"
          ],
          [
           "Female"
          ],
          [
           "Female"
          ],
          [
           "Female"
          ],
          [
           "Female"
          ],
          [
           "Male"
          ],
          [
           "Male"
          ],
          [
           "Male"
          ],
          [
           "Male"
          ],
          [
           "Female"
          ],
          [
           "Male"
          ],
          [
           "Female"
          ],
          [
           "Female"
          ],
          [
           "Male"
          ],
          [
           "Male"
          ],
          [
           "Male"
          ],
          [
           "Female"
          ],
          [
           "Male"
          ],
          [
           "Male"
          ],
          [
           "Male"
          ],
          [
           "Male"
          ],
          [
           "Male"
          ],
          [
           "Male"
          ],
          [
           "Male"
          ],
          [
           "Male"
          ],
          [
           "Female"
          ],
          [
           "Female"
          ],
          [
           "Female"
          ],
          [
           "Female"
          ],
          [
           "Female"
          ],
          [
           "Female"
          ],
          [
           "Female"
          ],
          [
           "Female"
          ],
          [
           "Female"
          ],
          [
           "Female"
          ],
          [
           "Female"
          ],
          [
           "Female"
          ],
          [
           "Female"
          ],
          [
           "Female"
          ],
          [
           "Male"
          ],
          [
           "Male"
          ],
          [
           "Male"
          ],
          [
           "Male"
          ],
          [
           "Female"
          ],
          [
           "Male"
          ],
          [
           "Female"
          ],
          [
           "Male"
          ],
          [
           "Male"
          ],
          [
           "Male"
          ],
          [
           "Female"
          ],
          [
           "Female"
          ],
          [
           "Male"
          ],
          [
           "Male"
          ],
          [
           "Male"
          ],
          [
           "Male"
          ],
          [
           "Female"
          ],
          [
           "Female"
          ]
         ],
         "hovertemplate": "Degree Level=Secondary<br>Year=%{x}<br>Salary=%{y}<br>Gender=%{customdata[0]}<extra></extra>",
         "legendgroup": "Secondary",
         "marker": {
          "color": "#ab63fa",
          "symbol": "x"
         },
         "mode": "markers",
         "name": "Secondary",
         "orientation": "v",
         "showlegend": true,
         "type": "scatter",
         "x": [
          "2017",
          "2017",
          "2017",
          "2017",
          "2017",
          "2017",
          "2017",
          "2017",
          "2017",
          "2017",
          "2017",
          "2017",
          "2017",
          "2017",
          "2017",
          "2017",
          "2018",
          "2018",
          "2018",
          "2018",
          "2018",
          "2018",
          "2018",
          "2018",
          "2018",
          "2018",
          "2018",
          "2018",
          "2018",
          "2018",
          "2018",
          "2018",
          "2019",
          "2019",
          "2019",
          "2019",
          "2019",
          "2019",
          "2019",
          "2019",
          "2019",
          "2019",
          "2019",
          "2019",
          "2019",
          "2019",
          "2019",
          "2019",
          "2020",
          "2020",
          "2020",
          "2020",
          "2020",
          "2020",
          "2020",
          "2020",
          "2020",
          "2020",
          "2020",
          "2020",
          "2020",
          "2020",
          "2020",
          "2020",
          "2021",
          "2021",
          "2021",
          "2021",
          "2021",
          "2021",
          "2021",
          "2021"
         ],
         "xaxis": "x",
         "y": [
          5124,
          5162,
          5453,
          5515,
          3032,
          3068,
          3071,
          3031,
          8378,
          8442,
          8606,
          8656,
          2953,
          1935,
          1984,
          2396,
          1796,
          5814,
          1947,
          1980,
          9102,
          9103,
          8752,
          8873,
          5242,
          3019,
          5230,
          2563,
          2852,
          2838,
          2933,
          5007,
          9109,
          9082,
          9044,
          9023,
          3029,
          3114,
          3045,
          3053,
          2045,
          2046,
          2120,
          5223,
          5744,
          5647,
          2095,
          5355,
          5066,
          5310,
          5313,
          2048,
          5886,
          1918,
          2815,
          2864,
          2963,
          3072,
          2164,
          8940,
          1646,
          8619,
          8640,
          8642,
          1591,
          1658,
          2753,
          8580,
          8743,
          2779,
          4437,
          4655
         ],
         "yaxis": "y"
        },
        {
         "customdata": [
          [
           "Male"
          ],
          [
           "Male"
          ],
          [
           "Male"
          ],
          [
           "Male"
          ],
          [
           "Female"
          ],
          [
           "Female"
          ],
          [
           "Female"
          ],
          [
           "Female"
          ],
          [
           "Female"
          ],
          [
           "Female"
          ],
          [
           "Male"
          ],
          [
           "Male"
          ],
          [
           "Male"
          ],
          [
           "Female"
          ],
          [
           "Female"
          ],
          [
           "Male"
          ],
          [
           "Female"
          ],
          [
           "Male"
          ],
          [
           "Male"
          ],
          [
           "Male"
          ],
          [
           "Male"
          ],
          [
           "Male"
          ],
          [
           "Female"
          ],
          [
           "Female"
          ],
          [
           "Female"
          ],
          [
           "Male"
          ],
          [
           "Male"
          ],
          [
           "Female"
          ],
          [
           "Female"
          ],
          [
           "Female"
          ],
          [
           "Female"
          ],
          [
           "Male"
          ],
          [
           "Male"
          ],
          [
           "Female"
          ],
          [
           "Male"
          ],
          [
           "Female"
          ],
          [
           "Male"
          ],
          [
           "Female"
          ],
          [
           "Female"
          ],
          [
           "Male"
          ],
          [
           "Male"
          ],
          [
           "Male"
          ],
          [
           "Male"
          ],
          [
           "Female"
          ],
          [
           "Female"
          ],
          [
           "Female"
          ],
          [
           "Male"
          ],
          [
           "Female"
          ],
          [
           "Female"
          ],
          [
           "Female"
          ],
          [
           "Male"
          ],
          [
           "Male"
          ],
          [
           "Male"
          ],
          [
           "Male"
          ],
          [
           "Male"
          ],
          [
           "Female"
          ],
          [
           "Male"
          ],
          [
           "Male"
          ],
          [
           "Female"
          ],
          [
           "Female"
          ],
          [
           "Male"
          ],
          [
           "Female"
          ],
          [
           "Female"
          ],
          [
           "Female"
          ],
          [
           "Female"
          ],
          [
           "Male"
          ],
          [
           "Female"
          ],
          [
           "Male"
          ],
          [
           "Female"
          ],
          [
           "Female"
          ],
          [
           "Male"
          ],
          [
           "Male"
          ]
         ],
         "hovertemplate": "Degree Level=Primary<br>Year=%{x}<br>Salary=%{y}<br>Gender=%{customdata[0]}<extra></extra>",
         "legendgroup": "Primary",
         "marker": {
          "color": "#FFA15A",
          "symbol": "cross"
         },
         "mode": "markers",
         "name": "Primary",
         "orientation": "v",
         "showlegend": true,
         "type": "scatter",
         "x": [
          "2017",
          "2017",
          "2017",
          "2017",
          "2017",
          "2017",
          "2017",
          "2017",
          "2017",
          "2017",
          "2017",
          "2017",
          "2017",
          "2017",
          "2017",
          "2017",
          "2018",
          "2018",
          "2018",
          "2018",
          "2018",
          "2018",
          "2018",
          "2018",
          "2018",
          "2018",
          "2018",
          "2018",
          "2018",
          "2018",
          "2018",
          "2018",
          "2019",
          "2019",
          "2019",
          "2019",
          "2019",
          "2019",
          "2019",
          "2019",
          "2019",
          "2019",
          "2019",
          "2019",
          "2019",
          "2019",
          "2019",
          "2019",
          "2020",
          "2020",
          "2020",
          "2020",
          "2020",
          "2020",
          "2020",
          "2020",
          "2020",
          "2020",
          "2020",
          "2020",
          "2020",
          "2020",
          "2020",
          "2020",
          "2021",
          "2021",
          "2021",
          "2021",
          "2021",
          "2021",
          "2021",
          "2021"
         ],
         "xaxis": "x",
         "y": [
          5957,
          5958,
          6172,
          6409,
          3875,
          3955,
          4191,
          4172,
          1596,
          1597,
          2213,
          2173,
          2114,
          1590,
          1576,
          2250,
          1497,
          6845,
          5901,
          2047,
          5978,
          6448,
          1588,
          1577,
          1509,
          2141,
          2181,
          4165,
          4324,
          4063,
          4475,
          2128,
          2260,
          1631,
          2284,
          1595,
          2349,
          1566,
          4734,
          6632,
          6539,
          6276,
          6275,
          4538,
          4569,
          1687,
          2233,
          4584,
          1331,
          4982,
          6187,
          6417,
          6518,
          6556,
          2101,
          4129,
          2300,
          2162,
          4441,
          4541,
          2140,
          1501,
          1449,
          1633,
          1384,
          1869,
          1398,
          1921,
          3970,
          4047,
          5686,
          5891
         ],
         "yaxis": "y"
        },
        {
         "customdata": [
          [
           "Female"
          ],
          [
           "Female"
          ],
          [
           "Female"
          ],
          [
           "Female"
          ],
          [
           "Male"
          ],
          [
           "Male"
          ],
          [
           "Male"
          ],
          [
           "Male"
          ],
          [
           "Male"
          ],
          [
           "Male"
          ],
          [
           "Male"
          ],
          [
           "Female"
          ],
          [
           "Female"
          ],
          [
           "Female"
          ],
          [
           "Female"
          ],
          [
           "Male"
          ],
          [
           "Male"
          ],
          [
           "Female"
          ],
          [
           "Female"
          ],
          [
           "Male"
          ],
          [
           "Male"
          ],
          [
           "Female"
          ],
          [
           "Female"
          ],
          [
           "Female"
          ],
          [
           "Male"
          ],
          [
           "Female"
          ],
          [
           "Male"
          ],
          [
           "Male"
          ],
          [
           "Male"
          ],
          [
           "Female"
          ],
          [
           "Female"
          ],
          [
           "Male"
          ],
          [
           "Female"
          ],
          [
           "Male"
          ],
          [
           "Male"
          ],
          [
           "Male"
          ],
          [
           "Female"
          ],
          [
           "Female"
          ],
          [
           "Female"
          ],
          [
           "Female"
          ],
          [
           "Male"
          ],
          [
           "Male"
          ],
          [
           "Male"
          ],
          [
           "Female"
          ],
          [
           "Male"
          ],
          [
           "Male"
          ],
          [
           "Female"
          ],
          [
           "Female"
          ],
          [
           "Female"
          ],
          [
           "Female"
          ],
          [
           "Female"
          ],
          [
           "Male"
          ],
          [
           "Male"
          ],
          [
           "Female"
          ],
          [
           "Male"
          ],
          [
           "Female"
          ],
          [
           "Female"
          ],
          [
           "Female"
          ],
          [
           "Female"
          ],
          [
           "Male"
          ],
          [
           "Male"
          ],
          [
           "Male"
          ],
          [
           "Male"
          ],
          [
           "Male"
          ],
          [
           "Female"
          ],
          [
           "Female"
          ],
          [
           "Male"
          ],
          [
           "Male"
          ],
          [
           "Male"
          ],
          [
           "Male"
          ],
          [
           "Female"
          ],
          [
           "Female"
          ]
         ],
         "hovertemplate": "Degree Level=Intermediate<br>Year=%{x}<br>Salary=%{y}<br>Gender=%{customdata[0]}<extra></extra>",
         "legendgroup": "Intermediate",
         "marker": {
          "color": "#19d3f3",
          "symbol": "circle"
         },
         "mode": "markers",
         "name": "Intermediate",
         "orientation": "v",
         "showlegend": true,
         "type": "scatter",
         "x": [
          "2017",
          "2017",
          "2017",
          "2017",
          "2017",
          "2017",
          "2017",
          "2017",
          "2017",
          "2017",
          "2017",
          "2017",
          "2017",
          "2017",
          "2017",
          "2017",
          "2018",
          "2018",
          "2018",
          "2018",
          "2018",
          "2018",
          "2018",
          "2018",
          "2018",
          "2018",
          "2018",
          "2018",
          "2018",
          "2018",
          "2018",
          "2018",
          "2019",
          "2019",
          "2019",
          "2019",
          "2019",
          "2019",
          "2019",
          "2019",
          "2019",
          "2019",
          "2019",
          "2019",
          "2019",
          "2019",
          "2019",
          "2019",
          "2020",
          "2020",
          "2020",
          "2020",
          "2020",
          "2020",
          "2020",
          "2020",
          "2020",
          "2020",
          "2020",
          "2020",
          "2020",
          "2020",
          "2020",
          "2020",
          "2021",
          "2021",
          "2021",
          "2021",
          "2021",
          "2021",
          "2021",
          "2021"
         ],
         "xaxis": "x",
         "y": [
          4590,
          4067,
          4235,
          4310,
          7342,
          7377,
          7477,
          7649,
          2322,
          2304,
          2285,
          1649,
          1651,
          1654,
          1664,
          2372,
          7643,
          1725,
          1666,
          7913,
          8131,
          1662,
          1661,
          5748,
          8178,
          4905,
          2287,
          2347,
          2322,
          4648,
          4247,
          2230,
          1644,
          2453,
          2413,
          2463,
          1832,
          4736,
          4752,
          1789,
          2472,
          7765,
          8071,
          4452,
          7965,
          7956,
          1737,
          4614,
          4846,
          5798,
          4681,
          2348,
          2300,
          4641,
          2361,
          1662,
          1526,
          1543,
          1569,
          2539,
          7605,
          7611,
          7723,
          7865,
          1433,
          1438,
          2232,
          2087,
          7583,
          7523,
          4367,
          4654
         ],
         "yaxis": "y"
        },
        {
         "customdata": [
          [
           "Male"
          ],
          [
           "Female"
          ],
          [
           "Female"
          ],
          [
           "Female"
          ],
          [
           "Female"
          ],
          [
           "Male"
          ],
          [
           "Male"
          ],
          [
           "Male"
          ],
          [
           "Male"
          ],
          [
           "Male"
          ],
          [
           "Male"
          ],
          [
           "Male"
          ],
          [
           "Female"
          ],
          [
           "Female"
          ],
          [
           "Female"
          ],
          [
           "Female"
          ],
          [
           "Male"
          ],
          [
           "Male"
          ],
          [
           "Female"
          ],
          [
           "Female"
          ],
          [
           "Female"
          ],
          [
           "Male"
          ],
          [
           "Male"
          ],
          [
           "Female"
          ],
          [
           "Female"
          ],
          [
           "Male"
          ],
          [
           "Female"
          ],
          [
           "Female"
          ],
          [
           "Female"
          ],
          [
           "Male"
          ],
          [
           "Male"
          ],
          [
           "Male"
          ],
          [
           "Female"
          ],
          [
           "Female"
          ],
          [
           "Male"
          ],
          [
           "Male"
          ],
          [
           "Male"
          ],
          [
           "Female"
          ],
          [
           "Female"
          ],
          [
           "Male"
          ],
          [
           "Male"
          ],
          [
           "Male"
          ],
          [
           "Male"
          ],
          [
           "Male"
          ],
          [
           "Female"
          ],
          [
           "Female"
          ],
          [
           "Female"
          ],
          [
           "Female"
          ],
          [
           "Female"
          ],
          [
           "Male"
          ],
          [
           "Female"
          ],
          [
           "Male"
          ],
          [
           "Female"
          ],
          [
           "Female"
          ],
          [
           "Male"
          ],
          [
           "Male"
          ],
          [
           "Female"
          ],
          [
           "Female"
          ],
          [
           "Male"
          ],
          [
           "Male"
          ],
          [
           "Male"
          ],
          [
           "Male"
          ],
          [
           "Female"
          ],
          [
           "Female"
          ],
          [
           "Female"
          ],
          [
           "Female"
          ],
          [
           "Male"
          ],
          [
           "Male"
          ],
          [
           "Female"
          ],
          [
           "Male"
          ],
          [
           "Female"
          ],
          [
           "Male"
          ]
         ],
         "hovertemplate": "Degree Level=Diploma<br>Year=%{x}<br>Salary=%{y}<br>Gender=%{customdata[0]}<extra></extra>",
         "legendgroup": "Diploma",
         "marker": {
          "color": "#FF6692",
          "symbol": "diamond"
         },
         "mode": "markers",
         "name": "Diploma",
         "orientation": "v",
         "showlegend": true,
         "type": "scatter",
         "x": [
          "2017",
          "2017",
          "2017",
          "2017",
          "2017",
          "2017",
          "2017",
          "2017",
          "2017",
          "2017",
          "2017",
          "2017",
          "2017",
          "2017",
          "2017",
          "2017",
          "2018",
          "2018",
          "2018",
          "2018",
          "2018",
          "2018",
          "2018",
          "2018",
          "2018",
          "2018",
          "2018",
          "2018",
          "2018",
          "2018",
          "2018",
          "2018",
          "2019",
          "2019",
          "2019",
          "2019",
          "2019",
          "2019",
          "2019",
          "2019",
          "2019",
          "2019",
          "2019",
          "2019",
          "2019",
          "2019",
          "2019",
          "2019",
          "2020",
          "2020",
          "2020",
          "2020",
          "2020",
          "2020",
          "2020",
          "2020",
          "2020",
          "2020",
          "2020",
          "2020",
          "2020",
          "2020",
          "2020",
          "2020",
          "2021",
          "2021",
          "2021",
          "2021",
          "2021",
          "2021",
          "2021",
          "2021"
         ],
         "xaxis": "x",
         "y": [
          4543,
          4526,
          3960,
          4037,
          4257,
          4344,
          4374,
          4517,
          9895,
          9898,
          10081,
          9691,
          9061,
          8388,
          8670,
          8419,
          10059,
          10814,
          9184,
          9345,
          9367,
          9907,
          10203,
          8932,
          4808,
          4574,
          4138,
          4734,
          4103,
          4532,
          4319,
          4455,
          9185,
          9052,
          5263,
          10400,
          10366,
          9411,
          9347,
          10137,
          10154,
          4769,
          4822,
          4915,
          5052,
          5625,
          5451,
          4537,
          5113,
          5249,
          4662,
          4084,
          4180,
          4195,
          4321,
          4553,
          9061,
          9006,
          10021,
          10042,
          10098,
          10285,
          8657,
          8586,
          8835,
          9067,
          10330,
          10675,
          3486,
          4362,
          2549,
          4604
         ],
         "yaxis": "y"
        }
       ],
       "layout": {
        "legend": {
         "title": {
          "text": "Degree Level"
         },
         "tracegroupgap": 0
        },
        "margin": {
         "t": 60
        },
        "template": {
         "data": {
          "bar": [
           {
            "error_x": {
             "color": "#2a3f5f"
            },
            "error_y": {
             "color": "#2a3f5f"
            },
            "marker": {
             "line": {
              "color": "#E5ECF6",
              "width": 0.5
             },
             "pattern": {
              "fillmode": "overlay",
              "size": 10,
              "solidity": 0.2
             }
            },
            "type": "bar"
           }
          ],
          "barpolar": [
           {
            "marker": {
             "line": {
              "color": "#E5ECF6",
              "width": 0.5
             },
             "pattern": {
              "fillmode": "overlay",
              "size": 10,
              "solidity": 0.2
             }
            },
            "type": "barpolar"
           }
          ],
          "carpet": [
           {
            "aaxis": {
             "endlinecolor": "#2a3f5f",
             "gridcolor": "white",
             "linecolor": "white",
             "minorgridcolor": "white",
             "startlinecolor": "#2a3f5f"
            },
            "baxis": {
             "endlinecolor": "#2a3f5f",
             "gridcolor": "white",
             "linecolor": "white",
             "minorgridcolor": "white",
             "startlinecolor": "#2a3f5f"
            },
            "type": "carpet"
           }
          ],
          "choropleth": [
           {
            "colorbar": {
             "outlinewidth": 0,
             "ticks": ""
            },
            "type": "choropleth"
           }
          ],
          "contour": [
           {
            "colorbar": {
             "outlinewidth": 0,
             "ticks": ""
            },
            "colorscale": [
             [
              0,
              "#0d0887"
             ],
             [
              0.1111111111111111,
              "#46039f"
             ],
             [
              0.2222222222222222,
              "#7201a8"
             ],
             [
              0.3333333333333333,
              "#9c179e"
             ],
             [
              0.4444444444444444,
              "#bd3786"
             ],
             [
              0.5555555555555556,
              "#d8576b"
             ],
             [
              0.6666666666666666,
              "#ed7953"
             ],
             [
              0.7777777777777778,
              "#fb9f3a"
             ],
             [
              0.8888888888888888,
              "#fdca26"
             ],
             [
              1,
              "#f0f921"
             ]
            ],
            "type": "contour"
           }
          ],
          "contourcarpet": [
           {
            "colorbar": {
             "outlinewidth": 0,
             "ticks": ""
            },
            "type": "contourcarpet"
           }
          ],
          "heatmap": [
           {
            "colorbar": {
             "outlinewidth": 0,
             "ticks": ""
            },
            "colorscale": [
             [
              0,
              "#0d0887"
             ],
             [
              0.1111111111111111,
              "#46039f"
             ],
             [
              0.2222222222222222,
              "#7201a8"
             ],
             [
              0.3333333333333333,
              "#9c179e"
             ],
             [
              0.4444444444444444,
              "#bd3786"
             ],
             [
              0.5555555555555556,
              "#d8576b"
             ],
             [
              0.6666666666666666,
              "#ed7953"
             ],
             [
              0.7777777777777778,
              "#fb9f3a"
             ],
             [
              0.8888888888888888,
              "#fdca26"
             ],
             [
              1,
              "#f0f921"
             ]
            ],
            "type": "heatmap"
           }
          ],
          "heatmapgl": [
           {
            "colorbar": {
             "outlinewidth": 0,
             "ticks": ""
            },
            "colorscale": [
             [
              0,
              "#0d0887"
             ],
             [
              0.1111111111111111,
              "#46039f"
             ],
             [
              0.2222222222222222,
              "#7201a8"
             ],
             [
              0.3333333333333333,
              "#9c179e"
             ],
             [
              0.4444444444444444,
              "#bd3786"
             ],
             [
              0.5555555555555556,
              "#d8576b"
             ],
             [
              0.6666666666666666,
              "#ed7953"
             ],
             [
              0.7777777777777778,
              "#fb9f3a"
             ],
             [
              0.8888888888888888,
              "#fdca26"
             ],
             [
              1,
              "#f0f921"
             ]
            ],
            "type": "heatmapgl"
           }
          ],
          "histogram": [
           {
            "marker": {
             "pattern": {
              "fillmode": "overlay",
              "size": 10,
              "solidity": 0.2
             }
            },
            "type": "histogram"
           }
          ],
          "histogram2d": [
           {
            "colorbar": {
             "outlinewidth": 0,
             "ticks": ""
            },
            "colorscale": [
             [
              0,
              "#0d0887"
             ],
             [
              0.1111111111111111,
              "#46039f"
             ],
             [
              0.2222222222222222,
              "#7201a8"
             ],
             [
              0.3333333333333333,
              "#9c179e"
             ],
             [
              0.4444444444444444,
              "#bd3786"
             ],
             [
              0.5555555555555556,
              "#d8576b"
             ],
             [
              0.6666666666666666,
              "#ed7953"
             ],
             [
              0.7777777777777778,
              "#fb9f3a"
             ],
             [
              0.8888888888888888,
              "#fdca26"
             ],
             [
              1,
              "#f0f921"
             ]
            ],
            "type": "histogram2d"
           }
          ],
          "histogram2dcontour": [
           {
            "colorbar": {
             "outlinewidth": 0,
             "ticks": ""
            },
            "colorscale": [
             [
              0,
              "#0d0887"
             ],
             [
              0.1111111111111111,
              "#46039f"
             ],
             [
              0.2222222222222222,
              "#7201a8"
             ],
             [
              0.3333333333333333,
              "#9c179e"
             ],
             [
              0.4444444444444444,
              "#bd3786"
             ],
             [
              0.5555555555555556,
              "#d8576b"
             ],
             [
              0.6666666666666666,
              "#ed7953"
             ],
             [
              0.7777777777777778,
              "#fb9f3a"
             ],
             [
              0.8888888888888888,
              "#fdca26"
             ],
             [
              1,
              "#f0f921"
             ]
            ],
            "type": "histogram2dcontour"
           }
          ],
          "mesh3d": [
           {
            "colorbar": {
             "outlinewidth": 0,
             "ticks": ""
            },
            "type": "mesh3d"
           }
          ],
          "parcoords": [
           {
            "line": {
             "colorbar": {
              "outlinewidth": 0,
              "ticks": ""
             }
            },
            "type": "parcoords"
           }
          ],
          "pie": [
           {
            "automargin": true,
            "type": "pie"
           }
          ],
          "scatter": [
           {
            "marker": {
             "colorbar": {
              "outlinewidth": 0,
              "ticks": ""
             }
            },
            "type": "scatter"
           }
          ],
          "scatter3d": [
           {
            "line": {
             "colorbar": {
              "outlinewidth": 0,
              "ticks": ""
             }
            },
            "marker": {
             "colorbar": {
              "outlinewidth": 0,
              "ticks": ""
             }
            },
            "type": "scatter3d"
           }
          ],
          "scattercarpet": [
           {
            "marker": {
             "colorbar": {
              "outlinewidth": 0,
              "ticks": ""
             }
            },
            "type": "scattercarpet"
           }
          ],
          "scattergeo": [
           {
            "marker": {
             "colorbar": {
              "outlinewidth": 0,
              "ticks": ""
             }
            },
            "type": "scattergeo"
           }
          ],
          "scattergl": [
           {
            "marker": {
             "colorbar": {
              "outlinewidth": 0,
              "ticks": ""
             }
            },
            "type": "scattergl"
           }
          ],
          "scattermapbox": [
           {
            "marker": {
             "colorbar": {
              "outlinewidth": 0,
              "ticks": ""
             }
            },
            "type": "scattermapbox"
           }
          ],
          "scatterpolar": [
           {
            "marker": {
             "colorbar": {
              "outlinewidth": 0,
              "ticks": ""
             }
            },
            "type": "scatterpolar"
           }
          ],
          "scatterpolargl": [
           {
            "marker": {
             "colorbar": {
              "outlinewidth": 0,
              "ticks": ""
             }
            },
            "type": "scatterpolargl"
           }
          ],
          "scatterternary": [
           {
            "marker": {
             "colorbar": {
              "outlinewidth": 0,
              "ticks": ""
             }
            },
            "type": "scatterternary"
           }
          ],
          "surface": [
           {
            "colorbar": {
             "outlinewidth": 0,
             "ticks": ""
            },
            "colorscale": [
             [
              0,
              "#0d0887"
             ],
             [
              0.1111111111111111,
              "#46039f"
             ],
             [
              0.2222222222222222,
              "#7201a8"
             ],
             [
              0.3333333333333333,
              "#9c179e"
             ],
             [
              0.4444444444444444,
              "#bd3786"
             ],
             [
              0.5555555555555556,
              "#d8576b"
             ],
             [
              0.6666666666666666,
              "#ed7953"
             ],
             [
              0.7777777777777778,
              "#fb9f3a"
             ],
             [
              0.8888888888888888,
              "#fdca26"
             ],
             [
              1,
              "#f0f921"
             ]
            ],
            "type": "surface"
           }
          ],
          "table": [
           {
            "cells": {
             "fill": {
              "color": "#EBF0F8"
             },
             "line": {
              "color": "white"
             }
            },
            "header": {
             "fill": {
              "color": "#C8D4E3"
             },
             "line": {
              "color": "white"
             }
            },
            "type": "table"
           }
          ]
         },
         "layout": {
          "annotationdefaults": {
           "arrowcolor": "#2a3f5f",
           "arrowhead": 0,
           "arrowwidth": 1
          },
          "autotypenumbers": "strict",
          "coloraxis": {
           "colorbar": {
            "outlinewidth": 0,
            "ticks": ""
           }
          },
          "colorscale": {
           "diverging": [
            [
             0,
             "#8e0152"
            ],
            [
             0.1,
             "#c51b7d"
            ],
            [
             0.2,
             "#de77ae"
            ],
            [
             0.3,
             "#f1b6da"
            ],
            [
             0.4,
             "#fde0ef"
            ],
            [
             0.5,
             "#f7f7f7"
            ],
            [
             0.6,
             "#e6f5d0"
            ],
            [
             0.7,
             "#b8e186"
            ],
            [
             0.8,
             "#7fbc41"
            ],
            [
             0.9,
             "#4d9221"
            ],
            [
             1,
             "#276419"
            ]
           ],
           "sequential": [
            [
             0,
             "#0d0887"
            ],
            [
             0.1111111111111111,
             "#46039f"
            ],
            [
             0.2222222222222222,
             "#7201a8"
            ],
            [
             0.3333333333333333,
             "#9c179e"
            ],
            [
             0.4444444444444444,
             "#bd3786"
            ],
            [
             0.5555555555555556,
             "#d8576b"
            ],
            [
             0.6666666666666666,
             "#ed7953"
            ],
            [
             0.7777777777777778,
             "#fb9f3a"
            ],
            [
             0.8888888888888888,
             "#fdca26"
            ],
            [
             1,
             "#f0f921"
            ]
           ],
           "sequentialminus": [
            [
             0,
             "#0d0887"
            ],
            [
             0.1111111111111111,
             "#46039f"
            ],
            [
             0.2222222222222222,
             "#7201a8"
            ],
            [
             0.3333333333333333,
             "#9c179e"
            ],
            [
             0.4444444444444444,
             "#bd3786"
            ],
            [
             0.5555555555555556,
             "#d8576b"
            ],
            [
             0.6666666666666666,
             "#ed7953"
            ],
            [
             0.7777777777777778,
             "#fb9f3a"
            ],
            [
             0.8888888888888888,
             "#fdca26"
            ],
            [
             1,
             "#f0f921"
            ]
           ]
          },
          "colorway": [
           "#636efa",
           "#EF553B",
           "#00cc96",
           "#ab63fa",
           "#FFA15A",
           "#19d3f3",
           "#FF6692",
           "#B6E880",
           "#FF97FF",
           "#FECB52"
          ],
          "font": {
           "color": "#2a3f5f"
          },
          "geo": {
           "bgcolor": "white",
           "lakecolor": "white",
           "landcolor": "#E5ECF6",
           "showlakes": true,
           "showland": true,
           "subunitcolor": "white"
          },
          "hoverlabel": {
           "align": "left"
          },
          "hovermode": "closest",
          "mapbox": {
           "style": "light"
          },
          "paper_bgcolor": "white",
          "plot_bgcolor": "#E5ECF6",
          "polar": {
           "angularaxis": {
            "gridcolor": "white",
            "linecolor": "white",
            "ticks": ""
           },
           "bgcolor": "#E5ECF6",
           "radialaxis": {
            "gridcolor": "white",
            "linecolor": "white",
            "ticks": ""
           }
          },
          "scene": {
           "xaxis": {
            "backgroundcolor": "#E5ECF6",
            "gridcolor": "white",
            "gridwidth": 2,
            "linecolor": "white",
            "showbackground": true,
            "ticks": "",
            "zerolinecolor": "white"
           },
           "yaxis": {
            "backgroundcolor": "#E5ECF6",
            "gridcolor": "white",
            "gridwidth": 2,
            "linecolor": "white",
            "showbackground": true,
            "ticks": "",
            "zerolinecolor": "white"
           },
           "zaxis": {
            "backgroundcolor": "#E5ECF6",
            "gridcolor": "white",
            "gridwidth": 2,
            "linecolor": "white",
            "showbackground": true,
            "ticks": "",
            "zerolinecolor": "white"
           }
          },
          "shapedefaults": {
           "line": {
            "color": "#2a3f5f"
           }
          },
          "ternary": {
           "aaxis": {
            "gridcolor": "white",
            "linecolor": "white",
            "ticks": ""
           },
           "baxis": {
            "gridcolor": "white",
            "linecolor": "white",
            "ticks": ""
           },
           "bgcolor": "#E5ECF6",
           "caxis": {
            "gridcolor": "white",
            "linecolor": "white",
            "ticks": ""
           }
          },
          "title": {
           "x": 0.05
          },
          "xaxis": {
           "automargin": true,
           "gridcolor": "white",
           "linecolor": "white",
           "ticks": "",
           "title": {
            "standoff": 15
           },
           "zerolinecolor": "white",
           "zerolinewidth": 2
          },
          "yaxis": {
           "automargin": true,
           "gridcolor": "white",
           "linecolor": "white",
           "ticks": "",
           "title": {
            "standoff": 15
           },
           "zerolinecolor": "white",
           "zerolinewidth": 2
          }
         }
        },
        "xaxis": {
         "anchor": "y",
         "domain": [
          0,
          1
         ],
         "title": {
          "text": "Year"
         }
        },
        "yaxis": {
         "anchor": "x",
         "domain": [
          0,
          1
         ],
         "title": {
          "text": "Salary"
         }
        }
       }
      }
     },
     "metadata": {},
     "output_type": "display_data"
    }
   ],
   "source": [
    "px.scatter(df,x=\"Year\", y=\"Salary\",color=\"Degree Level\", symbol=\"Degree Level\",hover_data=['Gender'])"
   ]
  },
  {
   "cell_type": "code",
   "execution_count": null,
   "metadata": {},
   "outputs": [],
   "source": [
    "# px.bar(df,x='Gender',y='Salary',hover_data=['Year'])"
   ]
  },
  {
   "cell_type": "code",
   "execution_count": null,
   "metadata": {},
   "outputs": [
    {
     "data": {
      "application/vnd.plotly.v1+json": {
       "config": {
        "plotlyServerURL": "https://plot.ly"
       },
       "data": [
        {
         "alignmentgroup": "True",
         "customdata": [
          [
           "NonSaudi"
          ],
          [
           "Saudi"
          ],
          [
           "NonSaudi"
          ],
          [
           "Saudi"
          ],
          [
           "NonSaudi"
          ],
          [
           "NonSaudi"
          ],
          [
           "NonSaudi"
          ],
          [
           "NonSaudi"
          ],
          [
           "Saudi"
          ],
          [
           "NonSaudi"
          ],
          [
           "NonSaudi"
          ],
          [
           "NonSaudi"
          ],
          [
           "NonSaudi"
          ],
          [
           "Saudi"
          ],
          [
           "Saudi"
          ],
          [
           "Saudi"
          ],
          [
           "NonSaudi"
          ],
          [
           "NonSaudi"
          ],
          [
           "Saudi"
          ],
          [
           "NonSaudi"
          ],
          [
           "Saudi"
          ],
          [
           "Saudi"
          ],
          [
           "Saudi"
          ],
          [
           "NonSaudi"
          ],
          [
           "Saudi"
          ],
          [
           "Saudi"
          ],
          [
           "NonSaudi"
          ],
          [
           "NonSaudi"
          ],
          [
           "Saudi"
          ],
          [
           "NonSaudi"
          ],
          [
           "NonSaudi"
          ],
          [
           "Saudi"
          ],
          [
           "Saudi"
          ],
          [
           "Saudi"
          ],
          [
           "NonSaudi"
          ],
          [
           "Saudi"
          ],
          [
           "Saudi"
          ],
          [
           "Saudi"
          ],
          [
           "Saudi"
          ],
          [
           "Saudi"
          ],
          [
           "Saudi"
          ],
          [
           "NonSaudi"
          ],
          [
           "Saudi"
          ],
          [
           "Saudi"
          ],
          [
           "NonSaudi"
          ],
          [
           "NonSaudi"
          ],
          [
           "NonSaudi"
          ],
          [
           "Saudi"
          ],
          [
           "NonSaudi"
          ],
          [
           "NonSaudi"
          ],
          [
           "Saudi"
          ],
          [
           "Saudi"
          ],
          [
           "Saudi"
          ],
          [
           "NonSaudi"
          ],
          [
           "NonSaudi"
          ],
          [
           "NonSaudi"
          ],
          [
           "Saudi"
          ],
          [
           "NonSaudi"
          ],
          [
           "Saudi"
          ],
          [
           "Saudi"
          ],
          [
           "NonSaudi"
          ],
          [
           "Saudi"
          ],
          [
           "Saudi"
          ],
          [
           "Saudi"
          ],
          [
           "Saudi"
          ],
          [
           "Saudi"
          ],
          [
           "Saudi"
          ],
          [
           "NonSaudi"
          ],
          [
           "Saudi"
          ],
          [
           "NonSaudi"
          ],
          [
           "NonSaudi"
          ],
          [
           "Saudi"
          ],
          [
           "NonSaudi"
          ],
          [
           "Saudi"
          ],
          [
           "Saudi"
          ],
          [
           "NonSaudi"
          ],
          [
           "Saudi"
          ],
          [
           "Saudi"
          ],
          [
           "NonSaudi"
          ],
          [
           "Saudi"
          ],
          [
           "Saudi"
          ],
          [
           "NonSaudi"
          ],
          [
           "Saudi"
          ],
          [
           "Saudi"
          ],
          [
           "Saudi"
          ],
          [
           "Saudi"
          ],
          [
           "Saudi"
          ],
          [
           "Saudi"
          ],
          [
           "Saudi"
          ],
          [
           "NonSaudi"
          ],
          [
           "NonSaudi"
          ],
          [
           "NonSaudi"
          ],
          [
           "Saudi"
          ],
          [
           "Saudi"
          ],
          [
           "NonSaudi"
          ],
          [
           "Saudi"
          ],
          [
           "NonSaudi"
          ],
          [
           "NonSaudi"
          ],
          [
           "NonSaudi"
          ],
          [
           "NonSaudi"
          ],
          [
           "NonSaudi"
          ],
          [
           "NonSaudi"
          ],
          [
           "NonSaudi"
          ],
          [
           "NonSaudi"
          ],
          [
           "Saudi"
          ],
          [
           "NonSaudi"
          ],
          [
           "NonSaudi"
          ],
          [
           "NonSaudi"
          ],
          [
           "NonSaudi"
          ],
          [
           "NonSaudi"
          ],
          [
           "NonSaudi"
          ],
          [
           "NonSaudi"
          ],
          [
           "Saudi"
          ],
          [
           "Saudi"
          ],
          [
           "Saudi"
          ],
          [
           "NonSaudi"
          ],
          [
           "NonSaudi"
          ],
          [
           "Saudi"
          ],
          [
           "NonSaudi"
          ],
          [
           "Saudi"
          ],
          [
           "Saudi"
          ],
          [
           "Saudi"
          ],
          [
           "Saudi"
          ],
          [
           "NonSaudi"
          ],
          [
           "NonSaudi"
          ],
          [
           "NonSaudi"
          ],
          [
           "Saudi"
          ],
          [
           "NonSaudi"
          ],
          [
           "Saudi"
          ],
          [
           "NonSaudi"
          ],
          [
           "NonSaudi"
          ],
          [
           "NonSaudi"
          ],
          [
           "NonSaudi"
          ],
          [
           "Saudi"
          ],
          [
           "Saudi"
          ],
          [
           "NonSaudi"
          ],
          [
           "NonSaudi"
          ],
          [
           "NonSaudi"
          ],
          [
           "Saudi"
          ],
          [
           "Saudi"
          ],
          [
           "NonSaudi"
          ],
          [
           "NonSaudi"
          ],
          [
           "Saudi"
          ],
          [
           "Saudi"
          ],
          [
           "NonSaudi"
          ],
          [
           "Saudi"
          ],
          [
           "Saudi"
          ],
          [
           "Saudi"
          ],
          [
           "Saudi"
          ],
          [
           "NonSaudi"
          ],
          [
           "Saudi"
          ],
          [
           "Saudi"
          ],
          [
           "NonSaudi"
          ],
          [
           "NonSaudi"
          ],
          [
           "NonSaudi"
          ],
          [
           "NonSaudi"
          ],
          [
           "NonSaudi"
          ],
          [
           "NonSaudi"
          ],
          [
           "Saudi"
          ],
          [
           "Saudi"
          ],
          [
           "Saudi"
          ],
          [
           "Saudi"
          ],
          [
           "Saudi"
          ],
          [
           "NonSaudi"
          ],
          [
           "NonSaudi"
          ],
          [
           "NonSaudi"
          ],
          [
           "NonSaudi"
          ],
          [
           "Saudi"
          ],
          [
           "Saudi"
          ],
          [
           "NonSaudi"
          ],
          [
           "NonSaudi"
          ],
          [
           "NonSaudi"
          ],
          [
           "NonSaudi"
          ],
          [
           "Saudi"
          ],
          [
           "Saudi"
          ],
          [
           "NonSaudi"
          ],
          [
           "Saudi"
          ],
          [
           "Saudi"
          ],
          [
           "Saudi"
          ],
          [
           "NonSaudi"
          ],
          [
           "Saudi"
          ],
          [
           "Saudi"
          ],
          [
           "NonSaudi"
          ],
          [
           "NonSaudi"
          ],
          [
           "Saudi"
          ],
          [
           "Saudi"
          ],
          [
           "NonSaudi"
          ],
          [
           "NonSaudi"
          ],
          [
           "NonSaudi"
          ],
          [
           "Saudi"
          ],
          [
           "Saudi"
          ],
          [
           "Saudi"
          ],
          [
           "NonSaudi"
          ],
          [
           "Saudi"
          ],
          [
           "Saudi"
          ],
          [
           "Saudi"
          ],
          [
           "NonSaudi"
          ],
          [
           "NonSaudi"
          ],
          [
           "NonSaudi"
          ],
          [
           "NonSaudi"
          ],
          [
           "NonSaudi"
          ],
          [
           "NonSaudi"
          ],
          [
           "Saudi"
          ],
          [
           "NonSaudi"
          ],
          [
           "NonSaudi"
          ],
          [
           "Saudi"
          ],
          [
           "Saudi"
          ],
          [
           "Saudi"
          ],
          [
           "NonSaudi"
          ],
          [
           "NonSaudi"
          ],
          [
           "NonSaudi"
          ],
          [
           "NonSaudi"
          ],
          [
           "Saudi"
          ],
          [
           "Saudi"
          ],
          [
           "NonSaudi"
          ],
          [
           "Saudi"
          ],
          [
           "Saudi"
          ],
          [
           "NonSaudi"
          ],
          [
           "NonSaudi"
          ],
          [
           "Saudi"
          ],
          [
           "Saudi"
          ],
          [
           "Saudi"
          ],
          [
           "Saudi"
          ],
          [
           "NonSaudi"
          ],
          [
           "Saudi"
          ],
          [
           "Saudi"
          ],
          [
           "NonSaudi"
          ],
          [
           "NonSaudi"
          ],
          [
           "NonSaudi"
          ],
          [
           "NonSaudi"
          ],
          [
           "NonSaudi"
          ],
          [
           "NonSaudi"
          ],
          [
           "NonSaudi"
          ],
          [
           "NonSaudi"
          ],
          [
           "Saudi"
          ],
          [
           "Saudi"
          ],
          [
           "NonSaudi"
          ],
          [
           "Saudi"
          ],
          [
           "NonSaudi"
          ],
          [
           "Saudi"
          ],
          [
           "Saudi"
          ],
          [
           "NonSaudi"
          ],
          [
           "Saudi"
          ],
          [
           "Saudi"
          ],
          [
           "Saudi"
          ],
          [
           "Saudi"
          ],
          [
           "NonSaudi"
          ],
          [
           "NonSaudi"
          ],
          [
           "Saudi"
          ],
          [
           "Saudi"
          ],
          [
           "NonSaudi"
          ],
          [
           "Saudi"
          ]
         ],
         "hovertemplate": "Gender=Male<br>Degree Level=%{x}<br>Salary=%{y}<br>Nationality=%{customdata[0]}<extra></extra>",
         "legendgroup": "Male",
         "marker": {
          "color": "#636efa",
          "pattern": {
           "shape": ""
          }
         },
         "name": "Male",
         "offsetgroup": "Male",
         "orientation": "v",
         "showlegend": true,
         "textposition": "auto",
         "type": "bar",
         "x": [
          "Bachelor",
          "Master Degree",
          "Doctorate",
          "Master Degree",
          "Doctorate",
          "Doctorate",
          "Master Degree",
          "Secondary",
          "Primary",
          "Doctorate",
          "Diploma",
          "Secondary",
          "Secondary",
          "Primary",
          "Primary",
          "Primary",
          "Diploma",
          "Diploma",
          "Master Degree",
          "Diploma",
          "Master Degree",
          "Intermediate",
          "Diploma",
          "Secondary",
          "Diploma",
          "Diploma",
          "Master Degree",
          "Master Degree",
          "Bachelor",
          "Bachelor",
          "Bachelor",
          "Diploma",
          "Bachelor",
          "Intermediate",
          "Bachelor",
          "Secondary",
          "Secondary",
          "Secondary",
          "Bachelor",
          "Secondary",
          "Bachelor",
          "Master Degree",
          "Intermediate",
          "Intermediate",
          "Intermediate",
          "Intermediate",
          "Intermediate",
          "Doctorate",
          "Primary",
          "Primary",
          "Doctorate",
          "Doctorate",
          "Doctorate",
          "Primary",
          "Primary",
          "Intermediate",
          "Intermediate",
          "Bachelor",
          "Doctorate",
          "Diploma",
          "Master Degree",
          "Intermediate",
          "Primary",
          "Doctorate",
          "Diploma",
          "Primary",
          "Doctorate",
          "Master Degree",
          "Primary",
          "Primary",
          "Bachelor",
          "Bachelor",
          "Bachelor",
          "Secondary",
          "Secondary",
          "Bachelor",
          "Bachelor",
          "Intermediate",
          "Master Degree",
          "Diploma",
          "Bachelor",
          "Master Degree",
          "Doctorate",
          "Diploma",
          "Primary",
          "Intermediate",
          "Bachelor",
          "Secondary",
          "Secondary",
          "Doctorate",
          "Doctorate",
          "Primary",
          "Master Degree",
          "Master Degree",
          "Intermediate",
          "Master Degree",
          "Primary",
          "Secondary",
          "Secondary",
          "Intermediate",
          "Diploma",
          "Doctorate",
          "Diploma",
          "Intermediate",
          "Master Degree",
          "Diploma",
          "Intermediate",
          "Doctorate",
          "Primary",
          "Secondary",
          "Secondary",
          "Diploma",
          "Doctorate",
          "Secondary",
          "Secondary",
          "Bachelor",
          "Primary",
          "Secondary",
          "Doctorate",
          "Bachelor",
          "Secondary",
          "Doctorate",
          "Master Degree",
          "Primary",
          "Diploma",
          "Doctorate",
          "Master Degree",
          "Bachelor",
          "Bachelor",
          "Intermediate",
          "Intermediate",
          "Secondary",
          "Doctorate",
          "Diploma",
          "Doctorate",
          "Primary",
          "Secondary",
          "Secondary",
          "Diploma",
          "Diploma",
          "Intermediate",
          "Secondary",
          "Bachelor",
          "Diploma",
          "Primary",
          "Intermediate",
          "Master Degree",
          "Primary",
          "Primary",
          "Diploma",
          "Primary",
          "Primary",
          "Master Degree",
          "Master Degree",
          "Diploma",
          "Diploma",
          "Master Degree",
          "Bachelor",
          "Intermediate",
          "Intermediate",
          "Master Degree",
          "Intermediate",
          "Doctorate",
          "Bachelor",
          "Master Degree",
          "Doctorate",
          "Intermediate",
          "Bachelor",
          "Doctorate",
          "Secondary",
          "Doctorate",
          "Secondary",
          "Doctorate",
          "Doctorate",
          "Bachelor",
          "Master Degree",
          "Doctorate",
          "Bachelor",
          "Master Degree",
          "Doctorate",
          "Primary",
          "Bachelor",
          "Master Degree",
          "Master Degree",
          "Bachelor",
          "Master Degree",
          "Doctorate",
          "Primary",
          "Diploma",
          "Primary",
          "Primary",
          "Primary",
          "Master Degree",
          "Master Degree",
          "Master Degree",
          "Secondary",
          "Intermediate",
          "Intermediate",
          "Intermediate",
          "Diploma",
          "Diploma",
          "Primary",
          "Secondary",
          "Bachelor",
          "Secondary",
          "Secondary",
          "Diploma",
          "Diploma",
          "Primary",
          "Primary",
          "Diploma",
          "Secondary",
          "Diploma",
          "Diploma",
          "Intermediate",
          "Secondary",
          "Intermediate",
          "Bachelor",
          "Bachelor",
          "Intermediate",
          "Intermediate",
          "Doctorate",
          "Intermediate",
          "Bachelor",
          "Master Degree",
          "Doctorate",
          "Primary",
          "Intermediate",
          "Intermediate",
          "Doctorate",
          "Master Degree",
          "Primary",
          "Doctorate",
          "Secondary",
          "Bachelor",
          "Secondary",
          "Bachelor",
          "Secondary",
          "Bachelor",
          "Master Degree",
          "Intermediate",
          "Secondary",
          "Intermediate",
          "Diploma",
          "Diploma",
          "Bachelor",
          "Master Degree",
          "Diploma",
          "Primary",
          "Primary",
          "Diploma",
          "Doctorate"
         ],
         "xaxis": "x",
         "y": [
          7868,
          17007,
          16788,
          16471,
          16262,
          15608,
          14841,
          2953,
          6172,
          17074,
          4543,
          3032,
          3071,
          5958,
          5957,
          6409,
          4517,
          4344,
          17443,
          4374,
          17763,
          7342,
          9895,
          3031,
          9898,
          10081,
          12233,
          14604,
          13023,
          7787,
          7655,
          9691,
          12902,
          7649,
          7851,
          8378,
          8442,
          8606,
          13142,
          8656,
          13041,
          13799,
          7477,
          7377,
          2322,
          2304,
          2285,
          23079,
          2213,
          2173,
          24906,
          27509,
          26380,
          2250,
          2114,
          2372,
          7643,
          8270,
          26700,
          10059,
          13558,
          7913,
          5978,
          23032,
          10814,
          6845,
          27214,
          11325,
          5901,
          2047,
          7732,
          13181,
          8114,
          9103,
          9102,
          8254,
          13448,
          8131,
          14068,
          10203,
          12847,
          12845,
          24459,
          9907,
          6448,
          8178,
          13147,
          8752,
          8873,
          15933,
          17749,
          2181,
          18720,
          18421,
          2287,
          17091,
          2141,
          2933,
          3019,
          2347,
          4574,
          17876,
          4532,
          2322,
          16721,
          4319,
          2230,
          17241,
          2128,
          2838,
          2852,
          4455,
          24321,
          9082,
          9023,
          9096,
          2260,
          9109,
          18246,
          13052,
          9044,
          30599,
          18786,
          2284,
          5263,
          19210,
          17577,
          8882,
          13059,
          2463,
          2453,
          3029,
          18762,
          10400,
          26262,
          2349,
          3114,
          3045,
          10137,
          10154,
          2413,
          3053,
          13108,
          10366,
          2233,
          7765,
          16373,
          6632,
          6539,
          4915,
          6276,
          6275,
          15724,
          15829,
          4822,
          4769,
          15183,
          8205,
          8071,
          7965,
          17102,
          7956,
          24024,
          8378,
          13373,
          16061,
          2472,
          13075,
          24202,
          2815,
          19311,
          2864,
          19406,
          27777,
          13101,
          11872,
          25863,
          13257,
          16503,
          16715,
          6556,
          12526,
          13815,
          12783,
          12475,
          19444,
          16736,
          2101,
          5249,
          6187,
          6417,
          6518,
          13667,
          17590,
          17276,
          8640,
          2361,
          2348,
          2300,
          4084,
          4321,
          2162,
          8940,
          7592,
          2963,
          8642,
          10098,
          10042,
          2300,
          2140,
          4553,
          3072,
          10021,
          10285,
          2539,
          8619,
          7605,
          8302,
          7721,
          7723,
          7865,
          31295,
          7611,
          8653,
          21754,
          28380,
          1869,
          2087,
          2232,
          26296,
          16467,
          1921,
          23036,
          2753,
          13373,
          8580,
          8727,
          8743,
          8933,
          20431,
          7523,
          2779,
          7583,
          10675,
          10330,
          13744,
          17202,
          4362,
          5686,
          5891,
          4604,
          35622
         ],
         "yaxis": "y"
        },
        {
         "alignmentgroup": "True",
         "customdata": [
          [
           "Saudi"
          ],
          [
           "Saudi"
          ],
          [
           "Saudi"
          ],
          [
           "Saudi"
          ],
          [
           "Saudi"
          ],
          [
           "Saudi"
          ],
          [
           "Saudi"
          ],
          [
           "NonSaudi"
          ],
          [
           "NonSaudi"
          ],
          [
           "Saudi"
          ],
          [
           "Saudi"
          ],
          [
           "NonSaudi"
          ],
          [
           "Saudi"
          ],
          [
           "NonSaudi"
          ],
          [
           "Saudi"
          ],
          [
           "NonSaudi"
          ],
          [
           "Saudi"
          ],
          [
           "Saudi"
          ],
          [
           "Saudi"
          ],
          [
           "Saudi"
          ],
          [
           "NonSaudi"
          ],
          [
           "NonSaudi"
          ],
          [
           "Saudi"
          ],
          [
           "Saudi"
          ],
          [
           "Saudi"
          ],
          [
           "NonSaudi"
          ],
          [
           "NonSaudi"
          ],
          [
           "NonSaudi"
          ],
          [
           "Saudi"
          ],
          [
           "Saudi"
          ],
          [
           "NonSaudi"
          ],
          [
           "Saudi"
          ],
          [
           "NonSaudi"
          ],
          [
           "NonSaudi"
          ],
          [
           "Saudi"
          ],
          [
           "NonSaudi"
          ],
          [
           "Saudi"
          ],
          [
           "NonSaudi"
          ],
          [
           "Saudi"
          ],
          [
           "Saudi"
          ],
          [
           "NonSaudi"
          ],
          [
           "NonSaudi"
          ],
          [
           "Saudi"
          ],
          [
           "NonSaudi"
          ],
          [
           "NonSaudi"
          ],
          [
           "NonSaudi"
          ],
          [
           "NonSaudi"
          ],
          [
           "NonSaudi"
          ],
          [
           "NonSaudi"
          ],
          [
           "NonSaudi"
          ],
          [
           "NonSaudi"
          ],
          [
           "NonSaudi"
          ],
          [
           "Saudi"
          ],
          [
           "NonSaudi"
          ],
          [
           "NonSaudi"
          ],
          [
           "Saudi"
          ],
          [
           "NonSaudi"
          ],
          [
           "NonSaudi"
          ],
          [
           "Saudi"
          ],
          [
           "NonSaudi"
          ],
          [
           "NonSaudi"
          ],
          [
           "NonSaudi"
          ],
          [
           "NonSaudi"
          ],
          [
           "Saudi"
          ],
          [
           "Saudi"
          ],
          [
           "NonSaudi"
          ],
          [
           "NonSaudi"
          ],
          [
           "NonSaudi"
          ],
          [
           "NonSaudi"
          ],
          [
           "Saudi"
          ],
          [
           "NonSaudi"
          ],
          [
           "NonSaudi"
          ],
          [
           "Saudi"
          ],
          [
           "NonSaudi"
          ],
          [
           "Saudi"
          ],
          [
           "NonSaudi"
          ],
          [
           "Saudi"
          ],
          [
           "NonSaudi"
          ],
          [
           "NonSaudi"
          ],
          [
           "Saudi"
          ],
          [
           "NonSaudi"
          ],
          [
           "NonSaudi"
          ],
          [
           "NonSaudi"
          ],
          [
           "Saudi"
          ],
          [
           "Saudi"
          ],
          [
           "NonSaudi"
          ],
          [
           "NonSaudi"
          ],
          [
           "Saudi"
          ],
          [
           "Saudi"
          ],
          [
           "Saudi"
          ],
          [
           "Saudi"
          ],
          [
           "Saudi"
          ],
          [
           "NonSaudi"
          ],
          [
           "Saudi"
          ],
          [
           "Saudi"
          ],
          [
           "NonSaudi"
          ],
          [
           "Saudi"
          ],
          [
           "NonSaudi"
          ],
          [
           "Saudi"
          ],
          [
           "Saudi"
          ],
          [
           "NonSaudi"
          ],
          [
           "Saudi"
          ],
          [
           "NonSaudi"
          ],
          [
           "Saudi"
          ],
          [
           "Saudi"
          ],
          [
           "Saudi"
          ],
          [
           "NonSaudi"
          ],
          [
           "NonSaudi"
          ],
          [
           "Saudi"
          ],
          [
           "Saudi"
          ],
          [
           "Saudi"
          ],
          [
           "Saudi"
          ],
          [
           "Saudi"
          ],
          [
           "NonSaudi"
          ],
          [
           "Saudi"
          ],
          [
           "NonSaudi"
          ],
          [
           "NonSaudi"
          ],
          [
           "Saudi"
          ],
          [
           "NonSaudi"
          ],
          [
           "NonSaudi"
          ],
          [
           "Saudi"
          ],
          [
           "Saudi"
          ],
          [
           "Saudi"
          ],
          [
           "NonSaudi"
          ],
          [
           "Saudi"
          ],
          [
           "Saudi"
          ],
          [
           "Saudi"
          ],
          [
           "NonSaudi"
          ],
          [
           "Saudi"
          ],
          [
           "Saudi"
          ],
          [
           "NonSaudi"
          ],
          [
           "Saudi"
          ],
          [
           "NonSaudi"
          ],
          [
           "Saudi"
          ],
          [
           "Saudi"
          ],
          [
           "NonSaudi"
          ],
          [
           "NonSaudi"
          ],
          [
           "Saudi"
          ],
          [
           "NonSaudi"
          ],
          [
           "Saudi"
          ],
          [
           "Saudi"
          ],
          [
           "NonSaudi"
          ],
          [
           "NonSaudi"
          ],
          [
           "NonSaudi"
          ],
          [
           "NonSaudi"
          ],
          [
           "NonSaudi"
          ],
          [
           "Saudi"
          ],
          [
           "Saudi"
          ],
          [
           "NonSaudi"
          ],
          [
           "NonSaudi"
          ],
          [
           "NonSaudi"
          ],
          [
           "Saudi"
          ],
          [
           "NonSaudi"
          ],
          [
           "Saudi"
          ],
          [
           "NonSaudi"
          ],
          [
           "Saudi"
          ],
          [
           "NonSaudi"
          ],
          [
           "Saudi"
          ],
          [
           "Saudi"
          ],
          [
           "Saudi"
          ],
          [
           "Saudi"
          ],
          [
           "Saudi"
          ],
          [
           "NonSaudi"
          ],
          [
           "NonSaudi"
          ],
          [
           "NonSaudi"
          ],
          [
           "NonSaudi"
          ],
          [
           "NonSaudi"
          ],
          [
           "Saudi"
          ],
          [
           "Saudi"
          ],
          [
           "Saudi"
          ],
          [
           "NonSaudi"
          ],
          [
           "Saudi"
          ],
          [
           "NonSaudi"
          ],
          [
           "NonSaudi"
          ],
          [
           "Saudi"
          ],
          [
           "NonSaudi"
          ],
          [
           "Saudi"
          ],
          [
           "Saudi"
          ],
          [
           "Saudi"
          ],
          [
           "Saudi"
          ],
          [
           "NonSaudi"
          ],
          [
           "Saudi"
          ],
          [
           "Saudi"
          ],
          [
           "NonSaudi"
          ],
          [
           "Saudi"
          ],
          [
           "Saudi"
          ],
          [
           "Saudi"
          ],
          [
           "NonSaudi"
          ],
          [
           "Saudi"
          ],
          [
           "Saudi"
          ],
          [
           "NonSaudi"
          ],
          [
           "NonSaudi"
          ],
          [
           "NonSaudi"
          ],
          [
           "NonSaudi"
          ],
          [
           "NonSaudi"
          ],
          [
           "Saudi"
          ],
          [
           "NonSaudi"
          ],
          [
           "Saudi"
          ],
          [
           "NonSaudi"
          ],
          [
           "NonSaudi"
          ],
          [
           "Saudi"
          ],
          [
           "NonSaudi"
          ],
          [
           "NonSaudi"
          ],
          [
           "NonSaudi"
          ],
          [
           "NonSaudi"
          ],
          [
           "Saudi"
          ],
          [
           "NonSaudi"
          ],
          [
           "NonSaudi"
          ],
          [
           "Saudi"
          ],
          [
           "NonSaudi"
          ],
          [
           "Saudi"
          ],
          [
           "Saudi"
          ],
          [
           "Saudi"
          ],
          [
           "Saudi"
          ],
          [
           "NonSaudi"
          ],
          [
           "NonSaudi"
          ],
          [
           "NonSaudi"
          ],
          [
           "NonSaudi"
          ],
          [
           "Saudi"
          ],
          [
           "Saudi"
          ],
          [
           "NonSaudi"
          ],
          [
           "NonSaudi"
          ],
          [
           "Saudi"
          ],
          [
           "Saudi"
          ],
          [
           "Saudi"
          ],
          [
           "Saudi"
          ],
          [
           "NonSaudi"
          ],
          [
           "NonSaudi"
          ],
          [
           "NonSaudi"
          ],
          [
           "Saudi"
          ],
          [
           "NonSaudi"
          ],
          [
           "NonSaudi"
          ],
          [
           "NonSaudi"
          ],
          [
           "Saudi"
          ],
          [
           "Saudi"
          ],
          [
           "Saudi"
          ],
          [
           "NonSaudi"
          ],
          [
           "Saudi"
          ],
          [
           "NonSaudi"
          ],
          [
           "NonSaudi"
          ],
          [
           "Saudi"
          ],
          [
           "Saudi"
          ],
          [
           "NonSaudi"
          ],
          [
           "Saudi"
          ],
          [
           "NonSaudi"
          ],
          [
           "Saudi"
          ],
          [
           "Saudi"
          ],
          [
           "Saudi"
          ],
          [
           "NonSaudi"
          ],
          [
           "Saudi"
          ],
          [
           "NonSaudi"
          ],
          [
           "NonSaudi"
          ]
         ],
         "hovertemplate": "Gender=Female<br>Degree Level=%{x}<br>Salary=%{y}<br>Nationality=%{customdata[0]}<extra></extra>",
         "legendgroup": "Female",
         "marker": {
          "color": "#EF553B",
          "pattern": {
           "shape": ""
          }
         },
         "name": "Female",
         "offsetgroup": "Female",
         "orientation": "v",
         "showlegend": true,
         "textposition": "auto",
         "type": "bar",
         "x": [
          "Doctorate",
          "Secondary",
          "Secondary",
          "Secondary",
          "Secondary",
          "Diploma",
          "Intermediate",
          "Diploma",
          "Secondary",
          "Primary",
          "Master Degree",
          "Bachelor",
          "Bachelor",
          "Bachelor",
          "Primary",
          "Diploma",
          "Primary",
          "Intermediate",
          "Intermediate",
          "Intermediate",
          "Master Degree",
          "Bachelor",
          "Bachelor",
          "Bachelor",
          "Bachelor",
          "Doctorate",
          "Diploma",
          "Master Degree",
          "Master Degree",
          "Master Degree",
          "Master Degree",
          "Master Degree",
          "Doctorate",
          "Doctorate",
          "Diploma",
          "Doctorate",
          "Primary",
          "Bachelor",
          "Diploma",
          "Diploma",
          "Master Degree",
          "Diploma",
          "Doctorate",
          "Primary",
          "Primary",
          "Intermediate",
          "Intermediate",
          "Intermediate",
          "Secondary",
          "Intermediate",
          "Primary",
          "Secondary",
          "Doctorate",
          "Secondary",
          "Primary",
          "Doctorate",
          "Doctorate",
          "Bachelor",
          "Bachelor",
          "Bachelor",
          "Secondary",
          "Doctorate",
          "Intermediate",
          "Secondary",
          "Master Degree",
          "Doctorate",
          "Intermediate",
          "Secondary",
          "Bachelor",
          "Diploma",
          "Secondary",
          "Bachelor",
          "Diploma",
          "Doctorate",
          "Bachelor",
          "Master Degree",
          "Diploma",
          "Primary",
          "Primary",
          "Bachelor",
          "Master Degree",
          "Master Degree",
          "Primary",
          "Doctorate",
          "Secondary",
          "Master Degree",
          "Primary",
          "Intermediate",
          "Master Degree",
          "Diploma",
          "Bachelor",
          "Primary",
          "Diploma",
          "Doctorate",
          "Intermediate",
          "Intermediate",
          "Secondary",
          "Intermediate",
          "Primary",
          "Intermediate",
          "Diploma",
          "Intermediate",
          "Diploma",
          "Doctorate",
          "Secondary",
          "Doctorate",
          "Diploma",
          "Secondary",
          "Master Degree",
          "Master Degree",
          "Primary",
          "Primary",
          "Master Degree",
          "Primary",
          "Doctorate",
          "Intermediate",
          "Master Degree",
          "Master Degree",
          "Master Degree",
          "Doctorate",
          "Bachelor",
          "Diploma",
          "Diploma",
          "Master Degree",
          "Bachelor",
          "Diploma",
          "Master Degree",
          "Intermediate",
          "Bachelor",
          "Doctorate",
          "Primary",
          "Bachelor",
          "Bachelor",
          "Diploma",
          "Master Degree",
          "Primary",
          "Secondary",
          "Secondary",
          "Bachelor",
          "Intermediate",
          "Intermediate",
          "Bachelor",
          "Secondary",
          "Secondary",
          "Secondary",
          "Diploma",
          "Secondary",
          "Secondary",
          "Diploma",
          "Master Degree",
          "Diploma",
          "Secondary",
          "Diploma",
          "Primary",
          "Bachelor",
          "Intermediate",
          "Doctorate",
          "Primary",
          "Primary",
          "Primary",
          "Doctorate",
          "Intermediate",
          "Doctorate",
          "Intermediate",
          "Primary",
          "Intermediate",
          "Doctorate",
          "Doctorate",
          "Secondary",
          "Doctorate",
          "Doctorate",
          "Doctorate",
          "Doctorate",
          "Doctorate",
          "Doctorate",
          "Secondary",
          "Intermediate",
          "Doctorate",
          "Intermediate",
          "Master Degree",
          "Diploma",
          "Secondary",
          "Secondary",
          "Secondary",
          "Master Degree",
          "Primary",
          "Secondary",
          "Doctorate",
          "Intermediate",
          "Master Degree",
          "Bachelor",
          "Bachelor",
          "Bachelor",
          "Diploma",
          "Master Degree",
          "Master Degree",
          "Primary",
          "Primary",
          "Diploma",
          "Diploma",
          "Bachelor",
          "Secondary",
          "Primary",
          "Master Degree",
          "Bachelor",
          "Diploma",
          "Intermediate",
          "Primary",
          "Intermediate",
          "Intermediate",
          "Diploma",
          "Diploma",
          "Bachelor",
          "Bachelor",
          "Master Degree",
          "Master Degree",
          "Intermediate",
          "Intermediate",
          "Primary",
          "Diploma",
          "Primary",
          "Secondary",
          "Primary",
          "Bachelor",
          "Doctorate",
          "Diploma",
          "Intermediate",
          "Primary",
          "Primary",
          "Doctorate",
          "Intermediate",
          "Secondary",
          "Secondary",
          "Diploma",
          "Bachelor",
          "Bachelor",
          "Master Degree",
          "Primary",
          "Master Degree",
          "Doctorate",
          "Master Degree",
          "Primary",
          "Diploma",
          "Master Degree",
          "Diploma",
          "Secondary",
          "Intermediate",
          "Intermediate",
          "Doctorate",
          "Secondary",
          "Bachelor",
          "Bachelor"
         ],
         "xaxis": "x",
         "y": [
          16204,
          5124,
          5162,
          5453,
          5515,
          8419,
          4590,
          4526,
          3068,
          3875,
          10729,
          6321,
          10406,
          6528,
          4172,
          4257,
          4191,
          4067,
          4235,
          4310,
          12668,
          6683,
          9993,
          10072,
          10180,
          10259,
          4037,
          10450,
          11836,
          11909,
          11022,
          11583,
          11862,
          12847,
          9061,
          12005,
          3955,
          6988,
          8388,
          8670,
          8779,
          3960,
          22953,
          1596,
          1597,
          1649,
          1651,
          1654,
          1935,
          1664,
          1576,
          2396,
          22216,
          1984,
          1590,
          21491,
          14305,
          7751,
          10629,
          7356,
          1796,
          13526,
          1725,
          5814,
          11628,
          11254,
          1666,
          1947,
          6420,
          9184,
          1980,
          6525,
          9345,
          12763,
          10179,
          12433,
          9367,
          1588,
          1577,
          10035,
          12440,
          9389,
          1497,
          23371,
          5242,
          8630,
          1509,
          5748,
          12119,
          8932,
          10256,
          4165,
          4808,
          20815,
          4905,
          1662,
          5007,
          1661,
          4063,
          4648,
          4734,
          4247,
          4103,
          19321,
          5230,
          17129,
          4138,
          2563,
          11804,
          13017,
          4475,
          4324,
          12732,
          1631,
          20665,
          1644,
          11575,
          11393,
          10773,
          12112,
          10476,
          9185,
          9052,
          9751,
          10279,
          9411,
          12656,
          1832,
          10412,
          20464,
          1595,
          10467,
          7156,
          9347,
          12378,
          1566,
          2120,
          5355,
          6614,
          4736,
          4752,
          7511,
          2045,
          2046,
          2095,
          5625,
          5647,
          5223,
          5451,
          14024,
          5052,
          5744,
          4537,
          4538,
          8062,
          4452,
          13167,
          4734,
          4584,
          4569,
          21403,
          4614,
          13502,
          1789,
          1687,
          1737,
          13424,
          21363,
          5886,
          21528,
          16034,
          21483,
          13947,
          13993,
          19058,
          1918,
          4681,
          21597,
          4846,
          12711,
          5113,
          5310,
          5313,
          2048,
          11681,
          4982,
          5066,
          14349,
          5798,
          11464,
          6197,
          6470,
          6495,
          4662,
          15305,
          12377,
          1331,
          4129,
          4180,
          4195,
          10167,
          2164,
          1449,
          9475,
          6790,
          9006,
          1526,
          1501,
          4641,
          1662,
          8657,
          9061,
          9826,
          9829,
          10397,
          11021,
          1543,
          1569,
          4541,
          8586,
          1633,
          1646,
          4441,
          9809,
          24632,
          9067,
          1438,
          1398,
          1384,
          25676,
          1433,
          1591,
          1658,
          8835,
          9239,
          9262,
          13397,
          3970,
          9362,
          10774,
          12398,
          4047,
          3486,
          12480,
          2549,
          4437,
          4367,
          4654,
          16727,
          4655,
          5809,
          5847
         ],
         "yaxis": "y"
        }
       ],
       "layout": {
        "barmode": "group",
        "legend": {
         "title": {
          "text": "Gender"
         },
         "tracegroupgap": 0
        },
        "margin": {
         "t": 60
        },
        "template": {
         "data": {
          "bar": [
           {
            "error_x": {
             "color": "#2a3f5f"
            },
            "error_y": {
             "color": "#2a3f5f"
            },
            "marker": {
             "line": {
              "color": "#E5ECF6",
              "width": 0.5
             },
             "pattern": {
              "fillmode": "overlay",
              "size": 10,
              "solidity": 0.2
             }
            },
            "type": "bar"
           }
          ],
          "barpolar": [
           {
            "marker": {
             "line": {
              "color": "#E5ECF6",
              "width": 0.5
             },
             "pattern": {
              "fillmode": "overlay",
              "size": 10,
              "solidity": 0.2
             }
            },
            "type": "barpolar"
           }
          ],
          "carpet": [
           {
            "aaxis": {
             "endlinecolor": "#2a3f5f",
             "gridcolor": "white",
             "linecolor": "white",
             "minorgridcolor": "white",
             "startlinecolor": "#2a3f5f"
            },
            "baxis": {
             "endlinecolor": "#2a3f5f",
             "gridcolor": "white",
             "linecolor": "white",
             "minorgridcolor": "white",
             "startlinecolor": "#2a3f5f"
            },
            "type": "carpet"
           }
          ],
          "choropleth": [
           {
            "colorbar": {
             "outlinewidth": 0,
             "ticks": ""
            },
            "type": "choropleth"
           }
          ],
          "contour": [
           {
            "colorbar": {
             "outlinewidth": 0,
             "ticks": ""
            },
            "colorscale": [
             [
              0,
              "#0d0887"
             ],
             [
              0.1111111111111111,
              "#46039f"
             ],
             [
              0.2222222222222222,
              "#7201a8"
             ],
             [
              0.3333333333333333,
              "#9c179e"
             ],
             [
              0.4444444444444444,
              "#bd3786"
             ],
             [
              0.5555555555555556,
              "#d8576b"
             ],
             [
              0.6666666666666666,
              "#ed7953"
             ],
             [
              0.7777777777777778,
              "#fb9f3a"
             ],
             [
              0.8888888888888888,
              "#fdca26"
             ],
             [
              1,
              "#f0f921"
             ]
            ],
            "type": "contour"
           }
          ],
          "contourcarpet": [
           {
            "colorbar": {
             "outlinewidth": 0,
             "ticks": ""
            },
            "type": "contourcarpet"
           }
          ],
          "heatmap": [
           {
            "colorbar": {
             "outlinewidth": 0,
             "ticks": ""
            },
            "colorscale": [
             [
              0,
              "#0d0887"
             ],
             [
              0.1111111111111111,
              "#46039f"
             ],
             [
              0.2222222222222222,
              "#7201a8"
             ],
             [
              0.3333333333333333,
              "#9c179e"
             ],
             [
              0.4444444444444444,
              "#bd3786"
             ],
             [
              0.5555555555555556,
              "#d8576b"
             ],
             [
              0.6666666666666666,
              "#ed7953"
             ],
             [
              0.7777777777777778,
              "#fb9f3a"
             ],
             [
              0.8888888888888888,
              "#fdca26"
             ],
             [
              1,
              "#f0f921"
             ]
            ],
            "type": "heatmap"
           }
          ],
          "heatmapgl": [
           {
            "colorbar": {
             "outlinewidth": 0,
             "ticks": ""
            },
            "colorscale": [
             [
              0,
              "#0d0887"
             ],
             [
              0.1111111111111111,
              "#46039f"
             ],
             [
              0.2222222222222222,
              "#7201a8"
             ],
             [
              0.3333333333333333,
              "#9c179e"
             ],
             [
              0.4444444444444444,
              "#bd3786"
             ],
             [
              0.5555555555555556,
              "#d8576b"
             ],
             [
              0.6666666666666666,
              "#ed7953"
             ],
             [
              0.7777777777777778,
              "#fb9f3a"
             ],
             [
              0.8888888888888888,
              "#fdca26"
             ],
             [
              1,
              "#f0f921"
             ]
            ],
            "type": "heatmapgl"
           }
          ],
          "histogram": [
           {
            "marker": {
             "pattern": {
              "fillmode": "overlay",
              "size": 10,
              "solidity": 0.2
             }
            },
            "type": "histogram"
           }
          ],
          "histogram2d": [
           {
            "colorbar": {
             "outlinewidth": 0,
             "ticks": ""
            },
            "colorscale": [
             [
              0,
              "#0d0887"
             ],
             [
              0.1111111111111111,
              "#46039f"
             ],
             [
              0.2222222222222222,
              "#7201a8"
             ],
             [
              0.3333333333333333,
              "#9c179e"
             ],
             [
              0.4444444444444444,
              "#bd3786"
             ],
             [
              0.5555555555555556,
              "#d8576b"
             ],
             [
              0.6666666666666666,
              "#ed7953"
             ],
             [
              0.7777777777777778,
              "#fb9f3a"
             ],
             [
              0.8888888888888888,
              "#fdca26"
             ],
             [
              1,
              "#f0f921"
             ]
            ],
            "type": "histogram2d"
           }
          ],
          "histogram2dcontour": [
           {
            "colorbar": {
             "outlinewidth": 0,
             "ticks": ""
            },
            "colorscale": [
             [
              0,
              "#0d0887"
             ],
             [
              0.1111111111111111,
              "#46039f"
             ],
             [
              0.2222222222222222,
              "#7201a8"
             ],
             [
              0.3333333333333333,
              "#9c179e"
             ],
             [
              0.4444444444444444,
              "#bd3786"
             ],
             [
              0.5555555555555556,
              "#d8576b"
             ],
             [
              0.6666666666666666,
              "#ed7953"
             ],
             [
              0.7777777777777778,
              "#fb9f3a"
             ],
             [
              0.8888888888888888,
              "#fdca26"
             ],
             [
              1,
              "#f0f921"
             ]
            ],
            "type": "histogram2dcontour"
           }
          ],
          "mesh3d": [
           {
            "colorbar": {
             "outlinewidth": 0,
             "ticks": ""
            },
            "type": "mesh3d"
           }
          ],
          "parcoords": [
           {
            "line": {
             "colorbar": {
              "outlinewidth": 0,
              "ticks": ""
             }
            },
            "type": "parcoords"
           }
          ],
          "pie": [
           {
            "automargin": true,
            "type": "pie"
           }
          ],
          "scatter": [
           {
            "marker": {
             "colorbar": {
              "outlinewidth": 0,
              "ticks": ""
             }
            },
            "type": "scatter"
           }
          ],
          "scatter3d": [
           {
            "line": {
             "colorbar": {
              "outlinewidth": 0,
              "ticks": ""
             }
            },
            "marker": {
             "colorbar": {
              "outlinewidth": 0,
              "ticks": ""
             }
            },
            "type": "scatter3d"
           }
          ],
          "scattercarpet": [
           {
            "marker": {
             "colorbar": {
              "outlinewidth": 0,
              "ticks": ""
             }
            },
            "type": "scattercarpet"
           }
          ],
          "scattergeo": [
           {
            "marker": {
             "colorbar": {
              "outlinewidth": 0,
              "ticks": ""
             }
            },
            "type": "scattergeo"
           }
          ],
          "scattergl": [
           {
            "marker": {
             "colorbar": {
              "outlinewidth": 0,
              "ticks": ""
             }
            },
            "type": "scattergl"
           }
          ],
          "scattermapbox": [
           {
            "marker": {
             "colorbar": {
              "outlinewidth": 0,
              "ticks": ""
             }
            },
            "type": "scattermapbox"
           }
          ],
          "scatterpolar": [
           {
            "marker": {
             "colorbar": {
              "outlinewidth": 0,
              "ticks": ""
             }
            },
            "type": "scatterpolar"
           }
          ],
          "scatterpolargl": [
           {
            "marker": {
             "colorbar": {
              "outlinewidth": 0,
              "ticks": ""
             }
            },
            "type": "scatterpolargl"
           }
          ],
          "scatterternary": [
           {
            "marker": {
             "colorbar": {
              "outlinewidth": 0,
              "ticks": ""
             }
            },
            "type": "scatterternary"
           }
          ],
          "surface": [
           {
            "colorbar": {
             "outlinewidth": 0,
             "ticks": ""
            },
            "colorscale": [
             [
              0,
              "#0d0887"
             ],
             [
              0.1111111111111111,
              "#46039f"
             ],
             [
              0.2222222222222222,
              "#7201a8"
             ],
             [
              0.3333333333333333,
              "#9c179e"
             ],
             [
              0.4444444444444444,
              "#bd3786"
             ],
             [
              0.5555555555555556,
              "#d8576b"
             ],
             [
              0.6666666666666666,
              "#ed7953"
             ],
             [
              0.7777777777777778,
              "#fb9f3a"
             ],
             [
              0.8888888888888888,
              "#fdca26"
             ],
             [
              1,
              "#f0f921"
             ]
            ],
            "type": "surface"
           }
          ],
          "table": [
           {
            "cells": {
             "fill": {
              "color": "#EBF0F8"
             },
             "line": {
              "color": "white"
             }
            },
            "header": {
             "fill": {
              "color": "#C8D4E3"
             },
             "line": {
              "color": "white"
             }
            },
            "type": "table"
           }
          ]
         },
         "layout": {
          "annotationdefaults": {
           "arrowcolor": "#2a3f5f",
           "arrowhead": 0,
           "arrowwidth": 1
          },
          "autotypenumbers": "strict",
          "coloraxis": {
           "colorbar": {
            "outlinewidth": 0,
            "ticks": ""
           }
          },
          "colorscale": {
           "diverging": [
            [
             0,
             "#8e0152"
            ],
            [
             0.1,
             "#c51b7d"
            ],
            [
             0.2,
             "#de77ae"
            ],
            [
             0.3,
             "#f1b6da"
            ],
            [
             0.4,
             "#fde0ef"
            ],
            [
             0.5,
             "#f7f7f7"
            ],
            [
             0.6,
             "#e6f5d0"
            ],
            [
             0.7,
             "#b8e186"
            ],
            [
             0.8,
             "#7fbc41"
            ],
            [
             0.9,
             "#4d9221"
            ],
            [
             1,
             "#276419"
            ]
           ],
           "sequential": [
            [
             0,
             "#0d0887"
            ],
            [
             0.1111111111111111,
             "#46039f"
            ],
            [
             0.2222222222222222,
             "#7201a8"
            ],
            [
             0.3333333333333333,
             "#9c179e"
            ],
            [
             0.4444444444444444,
             "#bd3786"
            ],
            [
             0.5555555555555556,
             "#d8576b"
            ],
            [
             0.6666666666666666,
             "#ed7953"
            ],
            [
             0.7777777777777778,
             "#fb9f3a"
            ],
            [
             0.8888888888888888,
             "#fdca26"
            ],
            [
             1,
             "#f0f921"
            ]
           ],
           "sequentialminus": [
            [
             0,
             "#0d0887"
            ],
            [
             0.1111111111111111,
             "#46039f"
            ],
            [
             0.2222222222222222,
             "#7201a8"
            ],
            [
             0.3333333333333333,
             "#9c179e"
            ],
            [
             0.4444444444444444,
             "#bd3786"
            ],
            [
             0.5555555555555556,
             "#d8576b"
            ],
            [
             0.6666666666666666,
             "#ed7953"
            ],
            [
             0.7777777777777778,
             "#fb9f3a"
            ],
            [
             0.8888888888888888,
             "#fdca26"
            ],
            [
             1,
             "#f0f921"
            ]
           ]
          },
          "colorway": [
           "#636efa",
           "#EF553B",
           "#00cc96",
           "#ab63fa",
           "#FFA15A",
           "#19d3f3",
           "#FF6692",
           "#B6E880",
           "#FF97FF",
           "#FECB52"
          ],
          "font": {
           "color": "#2a3f5f"
          },
          "geo": {
           "bgcolor": "white",
           "lakecolor": "white",
           "landcolor": "#E5ECF6",
           "showlakes": true,
           "showland": true,
           "subunitcolor": "white"
          },
          "hoverlabel": {
           "align": "left"
          },
          "hovermode": "closest",
          "mapbox": {
           "style": "light"
          },
          "paper_bgcolor": "white",
          "plot_bgcolor": "#E5ECF6",
          "polar": {
           "angularaxis": {
            "gridcolor": "white",
            "linecolor": "white",
            "ticks": ""
           },
           "bgcolor": "#E5ECF6",
           "radialaxis": {
            "gridcolor": "white",
            "linecolor": "white",
            "ticks": ""
           }
          },
          "scene": {
           "xaxis": {
            "backgroundcolor": "#E5ECF6",
            "gridcolor": "white",
            "gridwidth": 2,
            "linecolor": "white",
            "showbackground": true,
            "ticks": "",
            "zerolinecolor": "white"
           },
           "yaxis": {
            "backgroundcolor": "#E5ECF6",
            "gridcolor": "white",
            "gridwidth": 2,
            "linecolor": "white",
            "showbackground": true,
            "ticks": "",
            "zerolinecolor": "white"
           },
           "zaxis": {
            "backgroundcolor": "#E5ECF6",
            "gridcolor": "white",
            "gridwidth": 2,
            "linecolor": "white",
            "showbackground": true,
            "ticks": "",
            "zerolinecolor": "white"
           }
          },
          "shapedefaults": {
           "line": {
            "color": "#2a3f5f"
           }
          },
          "ternary": {
           "aaxis": {
            "gridcolor": "white",
            "linecolor": "white",
            "ticks": ""
           },
           "baxis": {
            "gridcolor": "white",
            "linecolor": "white",
            "ticks": ""
           },
           "bgcolor": "#E5ECF6",
           "caxis": {
            "gridcolor": "white",
            "linecolor": "white",
            "ticks": ""
           }
          },
          "title": {
           "x": 0.05
          },
          "xaxis": {
           "automargin": true,
           "gridcolor": "white",
           "linecolor": "white",
           "ticks": "",
           "title": {
            "standoff": 15
           },
           "zerolinecolor": "white",
           "zerolinewidth": 2
          },
          "yaxis": {
           "automargin": true,
           "gridcolor": "white",
           "linecolor": "white",
           "ticks": "",
           "title": {
            "standoff": 15
           },
           "zerolinecolor": "white",
           "zerolinewidth": 2
          }
         }
        },
        "xaxis": {
         "anchor": "y",
         "domain": [
          0,
          1
         ],
         "title": {
          "text": "Degree Level"
         }
        },
        "yaxis": {
         "anchor": "x",
         "domain": [
          0,
          1
         ],
         "title": {
          "text": "Salary"
         }
        }
       }
      }
     },
     "metadata": {},
     "output_type": "display_data"
    }
   ],
   "source": [
    "px.bar(df,x='Degree Level',y='Salary',color=\"Gender\",barmode=\"group\",hover_data=['Nationality'])"
   ]
  },
  {
   "cell_type": "code",
   "execution_count": null,
   "metadata": {},
   "outputs": [
    {
     "data": {
      "application/vnd.plotly.v1+json": {
       "config": {
        "plotlyServerURL": "https://plot.ly"
       },
       "data": [
        {
         "hovertemplate": "Gender=Female<br>Nationality=NonSaudi<br>Salary=%{x}<br>Degree Level=%{y}<extra></extra>",
         "legendgroup": "Female",
         "marker": {
          "color": "#636efa",
          "symbol": "circle"
         },
         "mode": "markers",
         "name": "Female",
         "orientation": "h",
         "showlegend": true,
         "type": "scatter",
         "x": [
          1590,
          1597,
          1596,
          1576,
          1588,
          1509,
          1577,
          1497,
          1566,
          1631,
          1687,
          1595,
          1633,
          1449,
          1501,
          1331,
          1384,
          1398,
          3068,
          1984,
          2396,
          1935,
          2563,
          1947,
          1796,
          1980,
          2045,
          2095,
          2046,
          2120,
          2164,
          2048,
          1918,
          1646,
          1591,
          1658,
          1649,
          1651,
          1654,
          1664,
          1666,
          1661,
          1725,
          1662,
          1644,
          1789,
          1832,
          1737,
          1662,
          1569,
          1543,
          1526,
          1438,
          1433,
          6528,
          6321,
          6988,
          6683,
          6525,
          6420,
          7751,
          7356,
          6614,
          7511,
          8062,
          7156,
          6470,
          6197,
          6790,
          6495,
          5809,
          5847,
          4526,
          4257,
          4037,
          3960,
          4138,
          4103,
          4734,
          4808,
          5451,
          5625,
          5052,
          4537,
          5113,
          4662,
          4180,
          4195,
          2549,
          3486,
          12847,
          12005,
          10259,
          11862,
          11254,
          13526,
          14305,
          12763,
          13167,
          13502,
          12112,
          13424,
          16034,
          13947,
          13993,
          14349,
          10774,
          16727,
          10450,
          12668,
          11022,
          8779,
          9389,
          12440,
          12433,
          8630,
          9751,
          14024,
          10773,
          11575,
          15305,
          11021,
          10397,
          9475,
          9362,
          13397
         ],
         "xaxis": "x3",
         "y": [
          "Primary",
          "Primary",
          "Primary",
          "Primary",
          "Primary",
          "Primary",
          "Primary",
          "Primary",
          "Primary",
          "Primary",
          "Primary",
          "Primary",
          "Primary",
          "Primary",
          "Primary",
          "Primary",
          "Primary",
          "Primary",
          "Secondary",
          "Secondary",
          "Secondary",
          "Secondary",
          "Secondary",
          "Secondary",
          "Secondary",
          "Secondary",
          "Secondary",
          "Secondary",
          "Secondary",
          "Secondary",
          "Secondary",
          "Secondary",
          "Secondary",
          "Secondary",
          "Secondary",
          "Secondary",
          "Intermediate",
          "Intermediate",
          "Intermediate",
          "Intermediate",
          "Intermediate",
          "Intermediate",
          "Intermediate",
          "Intermediate",
          "Intermediate",
          "Intermediate",
          "Intermediate",
          "Intermediate",
          "Intermediate",
          "Intermediate",
          "Intermediate",
          "Intermediate",
          "Intermediate",
          "Intermediate",
          "Bachelor",
          "Bachelor",
          "Bachelor",
          "Bachelor",
          "Bachelor",
          "Bachelor",
          "Bachelor",
          "Bachelor",
          "Bachelor",
          "Bachelor",
          "Bachelor",
          "Bachelor",
          "Bachelor",
          "Bachelor",
          "Bachelor",
          "Bachelor",
          "Bachelor",
          "Bachelor",
          "Diploma",
          "Diploma",
          "Diploma",
          "Diploma",
          "Diploma",
          "Diploma",
          "Diploma",
          "Diploma",
          "Diploma",
          "Diploma",
          "Diploma",
          "Diploma",
          "Diploma",
          "Diploma",
          "Diploma",
          "Diploma",
          "Diploma",
          "Diploma",
          "Doctorate",
          "Doctorate",
          "Doctorate",
          "Doctorate",
          "Doctorate",
          "Doctorate",
          "Doctorate",
          "Doctorate",
          "Doctorate",
          "Doctorate",
          "Doctorate",
          "Doctorate",
          "Doctorate",
          "Doctorate",
          "Doctorate",
          "Doctorate",
          "Doctorate",
          "Doctorate",
          "Master Degree",
          "Master Degree",
          "Master Degree",
          "Master Degree",
          "Master Degree",
          "Master Degree",
          "Master Degree",
          "Master Degree",
          "Master Degree",
          "Master Degree",
          "Master Degree",
          "Master Degree",
          "Master Degree",
          "Master Degree",
          "Master Degree",
          "Master Degree",
          "Master Degree",
          "Master Degree"
         ],
         "yaxis": "y3"
        },
        {
         "hovertemplate": "Gender=Female<br>Nationality=Saudi<br>Salary=%{x}<br>Degree Level=%{y}<extra></extra>",
         "legendgroup": "Female",
         "marker": {
          "color": "#636efa",
          "symbol": "circle"
         },
         "mode": "markers",
         "name": "Female",
         "orientation": "h",
         "showlegend": false,
         "type": "scatter",
         "x": [
          4172,
          3875,
          3955,
          4191,
          4165,
          4063,
          4324,
          4475,
          4584,
          4734,
          4569,
          4538,
          4541,
          4441,
          4982,
          4129,
          4047,
          3970,
          5124,
          5453,
          5515,
          5162,
          5007,
          5242,
          5230,
          5814,
          5355,
          5647,
          5744,
          5223,
          5886,
          5310,
          5313,
          5066,
          4437,
          4655,
          4310,
          4235,
          4067,
          4590,
          4247,
          4648,
          5748,
          4905,
          4452,
          4736,
          4614,
          4752,
          5798,
          4681,
          4846,
          4641,
          4367,
          4654,
          10180,
          10072,
          10406,
          9993,
          10035,
          10256,
          10629,
          10179,
          10279,
          10467,
          10476,
          10412,
          10167,
          9826,
          9809,
          9829,
          9262,
          9239,
          9061,
          8419,
          8388,
          8670,
          9367,
          8932,
          9345,
          9184,
          9411,
          9185,
          9347,
          9052,
          9061,
          9006,
          8586,
          8657,
          9067,
          8835,
          22953,
          16204,
          22216,
          21491,
          19321,
          23371,
          20815,
          17129,
          21363,
          21403,
          20464,
          20665,
          21528,
          21483,
          19058,
          21597,
          25676,
          24632,
          11909,
          11583,
          11836,
          10729,
          12119,
          11804,
          11628,
          13017,
          12378,
          11393,
          12732,
          12656,
          12711,
          11464,
          12377,
          11681,
          12480,
          12398
         ],
         "xaxis": "x",
         "y": [
          "Primary",
          "Primary",
          "Primary",
          "Primary",
          "Primary",
          "Primary",
          "Primary",
          "Primary",
          "Primary",
          "Primary",
          "Primary",
          "Primary",
          "Primary",
          "Primary",
          "Primary",
          "Primary",
          "Primary",
          "Primary",
          "Secondary",
          "Secondary",
          "Secondary",
          "Secondary",
          "Secondary",
          "Secondary",
          "Secondary",
          "Secondary",
          "Secondary",
          "Secondary",
          "Secondary",
          "Secondary",
          "Secondary",
          "Secondary",
          "Secondary",
          "Secondary",
          "Secondary",
          "Secondary",
          "Intermediate",
          "Intermediate",
          "Intermediate",
          "Intermediate",
          "Intermediate",
          "Intermediate",
          "Intermediate",
          "Intermediate",
          "Intermediate",
          "Intermediate",
          "Intermediate",
          "Intermediate",
          "Intermediate",
          "Intermediate",
          "Intermediate",
          "Intermediate",
          "Intermediate",
          "Intermediate",
          "Bachelor",
          "Bachelor",
          "Bachelor",
          "Bachelor",
          "Bachelor",
          "Bachelor",
          "Bachelor",
          "Bachelor",
          "Bachelor",
          "Bachelor",
          "Bachelor",
          "Bachelor",
          "Bachelor",
          "Bachelor",
          "Bachelor",
          "Bachelor",
          "Bachelor",
          "Bachelor",
          "Diploma",
          "Diploma",
          "Diploma",
          "Diploma",
          "Diploma",
          "Diploma",
          "Diploma",
          "Diploma",
          "Diploma",
          "Diploma",
          "Diploma",
          "Diploma",
          "Diploma",
          "Diploma",
          "Diploma",
          "Diploma",
          "Diploma",
          "Diploma",
          "Doctorate",
          "Doctorate",
          "Doctorate",
          "Doctorate",
          "Doctorate",
          "Doctorate",
          "Doctorate",
          "Doctorate",
          "Doctorate",
          "Doctorate",
          "Doctorate",
          "Doctorate",
          "Doctorate",
          "Doctorate",
          "Doctorate",
          "Doctorate",
          "Doctorate",
          "Doctorate",
          "Master Degree",
          "Master Degree",
          "Master Degree",
          "Master Degree",
          "Master Degree",
          "Master Degree",
          "Master Degree",
          "Master Degree",
          "Master Degree",
          "Master Degree",
          "Master Degree",
          "Master Degree",
          "Master Degree",
          "Master Degree",
          "Master Degree",
          "Master Degree",
          "Master Degree",
          "Master Degree"
         ],
         "yaxis": "y"
        },
        {
         "hovertemplate": "Gender=Male<br>Nationality=NonSaudi<br>Salary=%{x}<br>Degree Level=%{y}<extra></extra>",
         "legendgroup": "Male",
         "marker": {
          "color": "#EF553B",
          "symbol": "circle"
         },
         "mode": "markers",
         "name": "Male",
         "orientation": "h",
         "showlegend": true,
         "type": "scatter",
         "x": [
          2173,
          2213,
          2250,
          2114,
          2181,
          2047,
          2128,
          2141,
          2233,
          2349,
          2260,
          2284,
          2300,
          2140,
          2162,
          2101,
          1869,
          1921,
          3032,
          2953,
          3071,
          3031,
          3019,
          2838,
          2852,
          2933,
          3029,
          3053,
          3114,
          3045,
          3072,
          2815,
          2963,
          2864,
          2779,
          2753,
          2304,
          2322,
          2372,
          2285,
          2322,
          2230,
          2287,
          2347,
          2413,
          2472,
          2463,
          2453,
          2539,
          2348,
          2361,
          2300,
          2087,
          2232,
          7787,
          7868,
          7851,
          7655,
          7732,
          8270,
          8254,
          8114,
          8378,
          8882,
          9096,
          8205,
          8653,
          7721,
          7592,
          8302,
          8933,
          8727,
          4374,
          4344,
          4517,
          4543,
          4319,
          4455,
          4574,
          4532,
          4769,
          5263,
          4915,
          4822,
          5249,
          4084,
          4553,
          4321,
          4604,
          4362,
          15608,
          17074,
          16788,
          16262,
          17241,
          17749,
          17876,
          15933,
          16061,
          18762,
          19210,
          18246,
          19311,
          16736,
          16715,
          19406,
          26296,
          23036,
          13799,
          14841,
          14604,
          12233,
          14068,
          13558,
          11325,
          12845,
          13373,
          15183,
          15724,
          15829,
          13667,
          12783,
          11872,
          13815,
          16467,
          17202
         ],
         "xaxis": "x4",
         "y": [
          "Primary",
          "Primary",
          "Primary",
          "Primary",
          "Primary",
          "Primary",
          "Primary",
          "Primary",
          "Primary",
          "Primary",
          "Primary",
          "Primary",
          "Primary",
          "Primary",
          "Primary",
          "Primary",
          "Primary",
          "Primary",
          "Secondary",
          "Secondary",
          "Secondary",
          "Secondary",
          "Secondary",
          "Secondary",
          "Secondary",
          "Secondary",
          "Secondary",
          "Secondary",
          "Secondary",
          "Secondary",
          "Secondary",
          "Secondary",
          "Secondary",
          "Secondary",
          "Secondary",
          "Secondary",
          "Intermediate",
          "Intermediate",
          "Intermediate",
          "Intermediate",
          "Intermediate",
          "Intermediate",
          "Intermediate",
          "Intermediate",
          "Intermediate",
          "Intermediate",
          "Intermediate",
          "Intermediate",
          "Intermediate",
          "Intermediate",
          "Intermediate",
          "Intermediate",
          "Intermediate",
          "Intermediate",
          "Bachelor",
          "Bachelor",
          "Bachelor",
          "Bachelor",
          "Bachelor",
          "Bachelor",
          "Bachelor",
          "Bachelor",
          "Bachelor",
          "Bachelor",
          "Bachelor",
          "Bachelor",
          "Bachelor",
          "Bachelor",
          "Bachelor",
          "Bachelor",
          "Bachelor",
          "Bachelor",
          "Diploma",
          "Diploma",
          "Diploma",
          "Diploma",
          "Diploma",
          "Diploma",
          "Diploma",
          "Diploma",
          "Diploma",
          "Diploma",
          "Diploma",
          "Diploma",
          "Diploma",
          "Diploma",
          "Diploma",
          "Diploma",
          "Diploma",
          "Diploma",
          "Doctorate",
          "Doctorate",
          "Doctorate",
          "Doctorate",
          "Doctorate",
          "Doctorate",
          "Doctorate",
          "Doctorate",
          "Doctorate",
          "Doctorate",
          "Doctorate",
          "Doctorate",
          "Doctorate",
          "Doctorate",
          "Doctorate",
          "Doctorate",
          "Doctorate",
          "Doctorate",
          "Master Degree",
          "Master Degree",
          "Master Degree",
          "Master Degree",
          "Master Degree",
          "Master Degree",
          "Master Degree",
          "Master Degree",
          "Master Degree",
          "Master Degree",
          "Master Degree",
          "Master Degree",
          "Master Degree",
          "Master Degree",
          "Master Degree",
          "Master Degree",
          "Master Degree",
          "Master Degree"
         ],
         "yaxis": "y4"
        },
        {
         "hovertemplate": "Gender=Male<br>Nationality=Saudi<br>Salary=%{x}<br>Degree Level=%{y}<extra></extra>",
         "legendgroup": "Male",
         "marker": {
          "color": "#EF553B",
          "symbol": "circle"
         },
         "mode": "markers",
         "name": "Male",
         "orientation": "h",
         "showlegend": false,
         "type": "scatter",
         "x": [
          6172,
          5957,
          5958,
          6409,
          5978,
          5901,
          6845,
          6448,
          6276,
          6632,
          6275,
          6539,
          6187,
          6556,
          6417,
          6518,
          5686,
          5891,
          8378,
          8442,
          8656,
          8606,
          8752,
          8873,
          9103,
          9102,
          9082,
          9109,
          9023,
          9044,
          8940,
          8619,
          8642,
          8640,
          8743,
          8580,
          7477,
          7649,
          7377,
          7342,
          7643,
          7913,
          8178,
          8131,
          7956,
          7965,
          8071,
          7765,
          7865,
          7611,
          7605,
          7723,
          7583,
          7523,
          13023,
          12902,
          13041,
          13142,
          13448,
          13147,
          13181,
          12847,
          13075,
          13108,
          13059,
          13052,
          13101,
          12526,
          12475,
          13257,
          13744,
          13373,
          9898,
          9895,
          10081,
          9691,
          9907,
          10059,
          10814,
          10203,
          10154,
          10400,
          10366,
          10137,
          10098,
          10021,
          10042,
          10285,
          10330,
          10675,
          26380,
          27509,
          23079,
          24906,
          23032,
          26700,
          27214,
          24459,
          26262,
          24024,
          24321,
          30599,
          27777,
          24202,
          25863,
          31295,
          35622,
          28380,
          17007,
          17763,
          17443,
          16471,
          18421,
          18720,
          17091,
          16721,
          17102,
          16373,
          17577,
          18786,
          17590,
          17276,
          16503,
          19444,
          20431,
          21754
         ],
         "xaxis": "x2",
         "y": [
          "Primary",
          "Primary",
          "Primary",
          "Primary",
          "Primary",
          "Primary",
          "Primary",
          "Primary",
          "Primary",
          "Primary",
          "Primary",
          "Primary",
          "Primary",
          "Primary",
          "Primary",
          "Primary",
          "Primary",
          "Primary",
          "Secondary",
          "Secondary",
          "Secondary",
          "Secondary",
          "Secondary",
          "Secondary",
          "Secondary",
          "Secondary",
          "Secondary",
          "Secondary",
          "Secondary",
          "Secondary",
          "Secondary",
          "Secondary",
          "Secondary",
          "Secondary",
          "Secondary",
          "Secondary",
          "Intermediate",
          "Intermediate",
          "Intermediate",
          "Intermediate",
          "Intermediate",
          "Intermediate",
          "Intermediate",
          "Intermediate",
          "Intermediate",
          "Intermediate",
          "Intermediate",
          "Intermediate",
          "Intermediate",
          "Intermediate",
          "Intermediate",
          "Intermediate",
          "Intermediate",
          "Intermediate",
          "Bachelor",
          "Bachelor",
          "Bachelor",
          "Bachelor",
          "Bachelor",
          "Bachelor",
          "Bachelor",
          "Bachelor",
          "Bachelor",
          "Bachelor",
          "Bachelor",
          "Bachelor",
          "Bachelor",
          "Bachelor",
          "Bachelor",
          "Bachelor",
          "Bachelor",
          "Bachelor",
          "Diploma",
          "Diploma",
          "Diploma",
          "Diploma",
          "Diploma",
          "Diploma",
          "Diploma",
          "Diploma",
          "Diploma",
          "Diploma",
          "Diploma",
          "Diploma",
          "Diploma",
          "Diploma",
          "Diploma",
          "Diploma",
          "Diploma",
          "Diploma",
          "Doctorate",
          "Doctorate",
          "Doctorate",
          "Doctorate",
          "Doctorate",
          "Doctorate",
          "Doctorate",
          "Doctorate",
          "Doctorate",
          "Doctorate",
          "Doctorate",
          "Doctorate",
          "Doctorate",
          "Doctorate",
          "Doctorate",
          "Doctorate",
          "Doctorate",
          "Doctorate",
          "Master Degree",
          "Master Degree",
          "Master Degree",
          "Master Degree",
          "Master Degree",
          "Master Degree",
          "Master Degree",
          "Master Degree",
          "Master Degree",
          "Master Degree",
          "Master Degree",
          "Master Degree",
          "Master Degree",
          "Master Degree",
          "Master Degree",
          "Master Degree",
          "Master Degree",
          "Master Degree"
         ],
         "yaxis": "y2"
        }
       ],
       "layout": {
        "annotations": [
         {
          "font": {},
          "showarrow": false,
          "text": "Gender=Female",
          "x": 0.24,
          "xanchor": "center",
          "xref": "paper",
          "y": 1,
          "yanchor": "bottom",
          "yref": "paper"
         },
         {
          "font": {},
          "showarrow": false,
          "text": "Gender=Male",
          "x": 0.74,
          "xanchor": "center",
          "xref": "paper",
          "y": 1,
          "yanchor": "bottom",
          "yref": "paper"
         },
         {
          "font": {},
          "showarrow": false,
          "text": "Nationality=Saudi",
          "textangle": 90,
          "x": 0.98,
          "xanchor": "left",
          "xref": "paper",
          "y": 0.2425,
          "yanchor": "middle",
          "yref": "paper"
         },
         {
          "font": {},
          "showarrow": false,
          "text": "Nationality=NonSaudi",
          "textangle": 90,
          "x": 0.98,
          "xanchor": "left",
          "xref": "paper",
          "y": 0.7575000000000001,
          "yanchor": "middle",
          "yref": "paper"
         }
        ],
        "legend": {
         "title": {
          "text": "Gender"
         },
         "tracegroupgap": 0
        },
        "margin": {
         "t": 60
        },
        "template": {
         "data": {
          "bar": [
           {
            "error_x": {
             "color": "#2a3f5f"
            },
            "error_y": {
             "color": "#2a3f5f"
            },
            "marker": {
             "line": {
              "color": "#E5ECF6",
              "width": 0.5
             },
             "pattern": {
              "fillmode": "overlay",
              "size": 10,
              "solidity": 0.2
             }
            },
            "type": "bar"
           }
          ],
          "barpolar": [
           {
            "marker": {
             "line": {
              "color": "#E5ECF6",
              "width": 0.5
             },
             "pattern": {
              "fillmode": "overlay",
              "size": 10,
              "solidity": 0.2
             }
            },
            "type": "barpolar"
           }
          ],
          "carpet": [
           {
            "aaxis": {
             "endlinecolor": "#2a3f5f",
             "gridcolor": "white",
             "linecolor": "white",
             "minorgridcolor": "white",
             "startlinecolor": "#2a3f5f"
            },
            "baxis": {
             "endlinecolor": "#2a3f5f",
             "gridcolor": "white",
             "linecolor": "white",
             "minorgridcolor": "white",
             "startlinecolor": "#2a3f5f"
            },
            "type": "carpet"
           }
          ],
          "choropleth": [
           {
            "colorbar": {
             "outlinewidth": 0,
             "ticks": ""
            },
            "type": "choropleth"
           }
          ],
          "contour": [
           {
            "colorbar": {
             "outlinewidth": 0,
             "ticks": ""
            },
            "colorscale": [
             [
              0,
              "#0d0887"
             ],
             [
              0.1111111111111111,
              "#46039f"
             ],
             [
              0.2222222222222222,
              "#7201a8"
             ],
             [
              0.3333333333333333,
              "#9c179e"
             ],
             [
              0.4444444444444444,
              "#bd3786"
             ],
             [
              0.5555555555555556,
              "#d8576b"
             ],
             [
              0.6666666666666666,
              "#ed7953"
             ],
             [
              0.7777777777777778,
              "#fb9f3a"
             ],
             [
              0.8888888888888888,
              "#fdca26"
             ],
             [
              1,
              "#f0f921"
             ]
            ],
            "type": "contour"
           }
          ],
          "contourcarpet": [
           {
            "colorbar": {
             "outlinewidth": 0,
             "ticks": ""
            },
            "type": "contourcarpet"
           }
          ],
          "heatmap": [
           {
            "colorbar": {
             "outlinewidth": 0,
             "ticks": ""
            },
            "colorscale": [
             [
              0,
              "#0d0887"
             ],
             [
              0.1111111111111111,
              "#46039f"
             ],
             [
              0.2222222222222222,
              "#7201a8"
             ],
             [
              0.3333333333333333,
              "#9c179e"
             ],
             [
              0.4444444444444444,
              "#bd3786"
             ],
             [
              0.5555555555555556,
              "#d8576b"
             ],
             [
              0.6666666666666666,
              "#ed7953"
             ],
             [
              0.7777777777777778,
              "#fb9f3a"
             ],
             [
              0.8888888888888888,
              "#fdca26"
             ],
             [
              1,
              "#f0f921"
             ]
            ],
            "type": "heatmap"
           }
          ],
          "heatmapgl": [
           {
            "colorbar": {
             "outlinewidth": 0,
             "ticks": ""
            },
            "colorscale": [
             [
              0,
              "#0d0887"
             ],
             [
              0.1111111111111111,
              "#46039f"
             ],
             [
              0.2222222222222222,
              "#7201a8"
             ],
             [
              0.3333333333333333,
              "#9c179e"
             ],
             [
              0.4444444444444444,
              "#bd3786"
             ],
             [
              0.5555555555555556,
              "#d8576b"
             ],
             [
              0.6666666666666666,
              "#ed7953"
             ],
             [
              0.7777777777777778,
              "#fb9f3a"
             ],
             [
              0.8888888888888888,
              "#fdca26"
             ],
             [
              1,
              "#f0f921"
             ]
            ],
            "type": "heatmapgl"
           }
          ],
          "histogram": [
           {
            "marker": {
             "pattern": {
              "fillmode": "overlay",
              "size": 10,
              "solidity": 0.2
             }
            },
            "type": "histogram"
           }
          ],
          "histogram2d": [
           {
            "colorbar": {
             "outlinewidth": 0,
             "ticks": ""
            },
            "colorscale": [
             [
              0,
              "#0d0887"
             ],
             [
              0.1111111111111111,
              "#46039f"
             ],
             [
              0.2222222222222222,
              "#7201a8"
             ],
             [
              0.3333333333333333,
              "#9c179e"
             ],
             [
              0.4444444444444444,
              "#bd3786"
             ],
             [
              0.5555555555555556,
              "#d8576b"
             ],
             [
              0.6666666666666666,
              "#ed7953"
             ],
             [
              0.7777777777777778,
              "#fb9f3a"
             ],
             [
              0.8888888888888888,
              "#fdca26"
             ],
             [
              1,
              "#f0f921"
             ]
            ],
            "type": "histogram2d"
           }
          ],
          "histogram2dcontour": [
           {
            "colorbar": {
             "outlinewidth": 0,
             "ticks": ""
            },
            "colorscale": [
             [
              0,
              "#0d0887"
             ],
             [
              0.1111111111111111,
              "#46039f"
             ],
             [
              0.2222222222222222,
              "#7201a8"
             ],
             [
              0.3333333333333333,
              "#9c179e"
             ],
             [
              0.4444444444444444,
              "#bd3786"
             ],
             [
              0.5555555555555556,
              "#d8576b"
             ],
             [
              0.6666666666666666,
              "#ed7953"
             ],
             [
              0.7777777777777778,
              "#fb9f3a"
             ],
             [
              0.8888888888888888,
              "#fdca26"
             ],
             [
              1,
              "#f0f921"
             ]
            ],
            "type": "histogram2dcontour"
           }
          ],
          "mesh3d": [
           {
            "colorbar": {
             "outlinewidth": 0,
             "ticks": ""
            },
            "type": "mesh3d"
           }
          ],
          "parcoords": [
           {
            "line": {
             "colorbar": {
              "outlinewidth": 0,
              "ticks": ""
             }
            },
            "type": "parcoords"
           }
          ],
          "pie": [
           {
            "automargin": true,
            "type": "pie"
           }
          ],
          "scatter": [
           {
            "marker": {
             "colorbar": {
              "outlinewidth": 0,
              "ticks": ""
             }
            },
            "type": "scatter"
           }
          ],
          "scatter3d": [
           {
            "line": {
             "colorbar": {
              "outlinewidth": 0,
              "ticks": ""
             }
            },
            "marker": {
             "colorbar": {
              "outlinewidth": 0,
              "ticks": ""
             }
            },
            "type": "scatter3d"
           }
          ],
          "scattercarpet": [
           {
            "marker": {
             "colorbar": {
              "outlinewidth": 0,
              "ticks": ""
             }
            },
            "type": "scattercarpet"
           }
          ],
          "scattergeo": [
           {
            "marker": {
             "colorbar": {
              "outlinewidth": 0,
              "ticks": ""
             }
            },
            "type": "scattergeo"
           }
          ],
          "scattergl": [
           {
            "marker": {
             "colorbar": {
              "outlinewidth": 0,
              "ticks": ""
             }
            },
            "type": "scattergl"
           }
          ],
          "scattermapbox": [
           {
            "marker": {
             "colorbar": {
              "outlinewidth": 0,
              "ticks": ""
             }
            },
            "type": "scattermapbox"
           }
          ],
          "scatterpolar": [
           {
            "marker": {
             "colorbar": {
              "outlinewidth": 0,
              "ticks": ""
             }
            },
            "type": "scatterpolar"
           }
          ],
          "scatterpolargl": [
           {
            "marker": {
             "colorbar": {
              "outlinewidth": 0,
              "ticks": ""
             }
            },
            "type": "scatterpolargl"
           }
          ],
          "scatterternary": [
           {
            "marker": {
             "colorbar": {
              "outlinewidth": 0,
              "ticks": ""
             }
            },
            "type": "scatterternary"
           }
          ],
          "surface": [
           {
            "colorbar": {
             "outlinewidth": 0,
             "ticks": ""
            },
            "colorscale": [
             [
              0,
              "#0d0887"
             ],
             [
              0.1111111111111111,
              "#46039f"
             ],
             [
              0.2222222222222222,
              "#7201a8"
             ],
             [
              0.3333333333333333,
              "#9c179e"
             ],
             [
              0.4444444444444444,
              "#bd3786"
             ],
             [
              0.5555555555555556,
              "#d8576b"
             ],
             [
              0.6666666666666666,
              "#ed7953"
             ],
             [
              0.7777777777777778,
              "#fb9f3a"
             ],
             [
              0.8888888888888888,
              "#fdca26"
             ],
             [
              1,
              "#f0f921"
             ]
            ],
            "type": "surface"
           }
          ],
          "table": [
           {
            "cells": {
             "fill": {
              "color": "#EBF0F8"
             },
             "line": {
              "color": "white"
             }
            },
            "header": {
             "fill": {
              "color": "#C8D4E3"
             },
             "line": {
              "color": "white"
             }
            },
            "type": "table"
           }
          ]
         },
         "layout": {
          "annotationdefaults": {
           "arrowcolor": "#2a3f5f",
           "arrowhead": 0,
           "arrowwidth": 1
          },
          "autotypenumbers": "strict",
          "coloraxis": {
           "colorbar": {
            "outlinewidth": 0,
            "ticks": ""
           }
          },
          "colorscale": {
           "diverging": [
            [
             0,
             "#8e0152"
            ],
            [
             0.1,
             "#c51b7d"
            ],
            [
             0.2,
             "#de77ae"
            ],
            [
             0.3,
             "#f1b6da"
            ],
            [
             0.4,
             "#fde0ef"
            ],
            [
             0.5,
             "#f7f7f7"
            ],
            [
             0.6,
             "#e6f5d0"
            ],
            [
             0.7,
             "#b8e186"
            ],
            [
             0.8,
             "#7fbc41"
            ],
            [
             0.9,
             "#4d9221"
            ],
            [
             1,
             "#276419"
            ]
           ],
           "sequential": [
            [
             0,
             "#0d0887"
            ],
            [
             0.1111111111111111,
             "#46039f"
            ],
            [
             0.2222222222222222,
             "#7201a8"
            ],
            [
             0.3333333333333333,
             "#9c179e"
            ],
            [
             0.4444444444444444,
             "#bd3786"
            ],
            [
             0.5555555555555556,
             "#d8576b"
            ],
            [
             0.6666666666666666,
             "#ed7953"
            ],
            [
             0.7777777777777778,
             "#fb9f3a"
            ],
            [
             0.8888888888888888,
             "#fdca26"
            ],
            [
             1,
             "#f0f921"
            ]
           ],
           "sequentialminus": [
            [
             0,
             "#0d0887"
            ],
            [
             0.1111111111111111,
             "#46039f"
            ],
            [
             0.2222222222222222,
             "#7201a8"
            ],
            [
             0.3333333333333333,
             "#9c179e"
            ],
            [
             0.4444444444444444,
             "#bd3786"
            ],
            [
             0.5555555555555556,
             "#d8576b"
            ],
            [
             0.6666666666666666,
             "#ed7953"
            ],
            [
             0.7777777777777778,
             "#fb9f3a"
            ],
            [
             0.8888888888888888,
             "#fdca26"
            ],
            [
             1,
             "#f0f921"
            ]
           ]
          },
          "colorway": [
           "#636efa",
           "#EF553B",
           "#00cc96",
           "#ab63fa",
           "#FFA15A",
           "#19d3f3",
           "#FF6692",
           "#B6E880",
           "#FF97FF",
           "#FECB52"
          ],
          "font": {
           "color": "#2a3f5f"
          },
          "geo": {
           "bgcolor": "white",
           "lakecolor": "white",
           "landcolor": "#E5ECF6",
           "showlakes": true,
           "showland": true,
           "subunitcolor": "white"
          },
          "hoverlabel": {
           "align": "left"
          },
          "hovermode": "closest",
          "mapbox": {
           "style": "light"
          },
          "paper_bgcolor": "white",
          "plot_bgcolor": "#E5ECF6",
          "polar": {
           "angularaxis": {
            "gridcolor": "white",
            "linecolor": "white",
            "ticks": ""
           },
           "bgcolor": "#E5ECF6",
           "radialaxis": {
            "gridcolor": "white",
            "linecolor": "white",
            "ticks": ""
           }
          },
          "scene": {
           "xaxis": {
            "backgroundcolor": "#E5ECF6",
            "gridcolor": "white",
            "gridwidth": 2,
            "linecolor": "white",
            "showbackground": true,
            "ticks": "",
            "zerolinecolor": "white"
           },
           "yaxis": {
            "backgroundcolor": "#E5ECF6",
            "gridcolor": "white",
            "gridwidth": 2,
            "linecolor": "white",
            "showbackground": true,
            "ticks": "",
            "zerolinecolor": "white"
           },
           "zaxis": {
            "backgroundcolor": "#E5ECF6",
            "gridcolor": "white",
            "gridwidth": 2,
            "linecolor": "white",
            "showbackground": true,
            "ticks": "",
            "zerolinecolor": "white"
           }
          },
          "shapedefaults": {
           "line": {
            "color": "#2a3f5f"
           }
          },
          "ternary": {
           "aaxis": {
            "gridcolor": "white",
            "linecolor": "white",
            "ticks": ""
           },
           "baxis": {
            "gridcolor": "white",
            "linecolor": "white",
            "ticks": ""
           },
           "bgcolor": "#E5ECF6",
           "caxis": {
            "gridcolor": "white",
            "linecolor": "white",
            "ticks": ""
           }
          },
          "title": {
           "x": 0.05
          },
          "xaxis": {
           "automargin": true,
           "gridcolor": "white",
           "linecolor": "white",
           "ticks": "",
           "title": {
            "standoff": 15
           },
           "zerolinecolor": "white",
           "zerolinewidth": 2
          },
          "yaxis": {
           "automargin": true,
           "gridcolor": "white",
           "linecolor": "white",
           "ticks": "",
           "title": {
            "standoff": 15
           },
           "zerolinecolor": "white",
           "zerolinewidth": 2
          }
         }
        },
        "xaxis": {
         "anchor": "y",
         "domain": [
          0,
          0.48
         ],
         "title": {
          "text": "Salary"
         }
        },
        "xaxis2": {
         "anchor": "y2",
         "domain": [
          0.5,
          0.98
         ],
         "matches": "x",
         "title": {
          "text": "Salary"
         }
        },
        "xaxis3": {
         "anchor": "y3",
         "domain": [
          0,
          0.48
         ],
         "matches": "x",
         "showticklabels": false
        },
        "xaxis4": {
         "anchor": "y4",
         "domain": [
          0.5,
          0.98
         ],
         "matches": "x",
         "showticklabels": false
        },
        "yaxis": {
         "anchor": "x",
         "domain": [
          0,
          0.485
         ],
         "title": {
          "text": "Degree Level"
         }
        },
        "yaxis2": {
         "anchor": "x2",
         "domain": [
          0,
          0.485
         ],
         "matches": "y",
         "showticklabels": false
        },
        "yaxis3": {
         "anchor": "x3",
         "domain": [
          0.515,
          1
         ],
         "matches": "y",
         "title": {
          "text": "Degree Level"
         }
        },
        "yaxis4": {
         "anchor": "x4",
         "domain": [
          0.515,
          1
         ],
         "matches": "y",
         "showticklabels": false
        }
       }
      }
     },
     "metadata": {},
     "output_type": "display_data"
    }
   ],
   "source": [
    "px.scatter(df, x=\"Salary\", y=\"Degree Level\", color=\"Gender\", facet_col=\"Gender\", facet_row=\"Nationality\")"
   ]
  },
  {
   "cell_type": "code",
   "execution_count": null,
   "metadata": {},
   "outputs": [],
   "source": [
    "# df = df.sort_values(by=\"Year\")\n",
    "# px.line(df, x='Nationality', y='Gender')"
   ]
  },
  {
   "cell_type": "code",
   "execution_count": null,
   "metadata": {},
   "outputs": [
    {
     "name": "stdout",
     "output_type": "stream",
     "text": [
      "Dash is running on http://127.0.0.1:8050/\n",
      "\n",
      " * Serving Flask app 'Project' (lazy loading)\n",
      " * Environment: production\n",
      "   WARNING: This is a development server. Do not use it in a production deployment.\n",
      "   Use a production WSGI server instead.\n",
      " * Debug mode: off\n"
     ]
    }
   ],
   "source": []
  },
  {
   "cell_type": "code",
   "execution_count": null,
   "metadata": {},
   "outputs": [],
   "source": [
    "\n",
    "        "
   ]
  },
  {
   "cell_type": "code",
   "execution_count": null,
   "metadata": {},
   "outputs": [],
   "source": []
  },
  {
   "cell_type": "code",
   "execution_count": null,
   "metadata": {},
   "outputs": [],
   "source": []
  },
  {
   "cell_type": "code",
   "execution_count": null,
   "metadata": {},
   "outputs": [],
   "source": []
  },
  {
   "cell_type": "code",
   "execution_count": null,
   "metadata": {},
   "outputs": [],
   "source": []
  },
  {
   "cell_type": "code",
   "execution_count": null,
   "metadata": {},
   "outputs": [],
   "source": []
  },
  {
   "cell_type": "code",
   "execution_count": null,
   "metadata": {},
   "outputs": [],
   "source": []
  },
  {
   "cell_type": "code",
   "execution_count": null,
   "metadata": {},
   "outputs": [],
   "source": []
  },
  {
   "cell_type": "code",
   "execution_count": null,
   "metadata": {},
   "outputs": [],
   "source": []
  },
  {
   "cell_type": "code",
   "execution_count": null,
   "metadata": {},
   "outputs": [],
   "source": []
  },
  {
   "cell_type": "code",
   "execution_count": null,
   "metadata": {},
   "outputs": [],
   "source": []
  },
  {
   "cell_type": "code",
   "execution_count": null,
   "metadata": {},
   "outputs": [],
   "source": []
  },
  {
   "cell_type": "code",
   "execution_count": null,
   "metadata": {},
   "outputs": [],
   "source": []
  },
  {
   "cell_type": "code",
   "execution_count": null,
   "metadata": {},
   "outputs": [],
   "source": []
  },
  {
   "cell_type": "code",
   "execution_count": null,
   "metadata": {},
   "outputs": [],
   "source": []
  },
  {
   "cell_type": "code",
   "execution_count": null,
   "metadata": {},
   "outputs": [],
   "source": []
  },
  {
   "cell_type": "code",
   "execution_count": null,
   "metadata": {},
   "outputs": [],
   "source": []
  },
  {
   "cell_type": "code",
   "execution_count": null,
   "metadata": {},
   "outputs": [],
   "source": []
  },
  {
   "cell_type": "code",
   "execution_count": null,
   "metadata": {},
   "outputs": [],
   "source": []
  }
 ],
 "metadata": {
  "interpreter": {
   "hash": "485a7b116eb3a8ad65ddd739a567e9f72c40a9d95ef486baa58e0ff3eb709032"
  },
  "kernelspec": {
   "display_name": "Python 3.7.10 64-bit ('base': conda)",
   "name": "python3"
  },
  "language_info": {
   "codemirror_mode": {
    "name": "ipython",
    "version": 3
   },
   "file_extension": ".py",
   "mimetype": "text/x-python",
   "name": "python",
   "nbconvert_exporter": "python",
   "pygments_lexer": "ipython3",
   "version": "3.7.10"
  },
  "orig_nbformat": 4
 },
 "nbformat": 4,
 "nbformat_minor": 2
}
